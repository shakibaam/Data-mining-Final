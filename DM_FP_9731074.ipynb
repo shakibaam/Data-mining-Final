{
  "cells": [
    {
      "cell_type": "code",
      "execution_count": 1,
      "metadata": {
        "colab": {
          "base_uri": "https://localhost:8080/"
        },
        "id": "o5wP47VJtPxv",
        "outputId": "84b54669-3e90-43dd-bb5a-4410b4ef7cf7"
      },
      "outputs": [
        {
          "output_type": "stream",
          "name": "stdout",
          "text": [
            "Mounted at /content/gdrive\n"
          ]
        }
      ],
      "source": [
        "# your code here\n",
        "from google.colab import drive\n",
        "\n",
        "drive.mount('/content/gdrive')"
      ]
    },
    {
      "cell_type": "code",
      "execution_count": 2,
      "metadata": {
        "id": "xWr_c-AuunSG"
      },
      "outputs": [],
      "source": [
        "import pandas as pd"
      ]
    },
    {
      "cell_type": "markdown",
      "source": [
        "در ابتدا داده ها را به شکل دیتا فریم در می آوریم"
      ],
      "metadata": {
        "id": "l3Zv_An0O_WO"
      }
    },
    {
      "cell_type": "code",
      "execution_count": 3,
      "metadata": {
        "colab": {
          "base_uri": "https://localhost:8080/",
          "height": 352
        },
        "id": "r0P7IhREt9J1",
        "outputId": "447c0f38-3426-462f-ea27-ab6319de4af9"
      },
      "outputs": [
        {
          "output_type": "execute_result",
          "data": {
            "text/plain": [
              "   Unnamed: 0  Diabetes_binary  HighBP  High Cholesterol  Cholesterol Check  \\\n",
              "0           0              0.0     1.0               0.0                1.0   \n",
              "1           1              0.0     1.0               1.0                1.0   \n",
              "2           2              0.0     0.0               0.0                1.0   \n",
              "3           3              0.0     1.0               1.0                1.0   \n",
              "4           4              0.0     0.0               0.0                1.0   \n",
              "\n",
              "    BMI  Smoker  Stroke  HeartDiseaseorAttack  Physical Activity  ...  \\\n",
              "0  26.0     0.0     0.0                   0.0                1.0  ...   \n",
              "1  26.0     1.0     1.0                   0.0                0.0  ...   \n",
              "2  26.0     0.0     0.0                   0.0                1.0  ...   \n",
              "3  28.0     1.0     0.0                   0.0                1.0  ...   \n",
              "4  29.0     1.0     0.0                   0.0                1.0  ...   \n",
              "\n",
              "   Any Health Care  No Doctor because of Cost  General Health  Mental Health  \\\n",
              "0              1.0                        0.0          Medium            5.0   \n",
              "1              1.0                        0.0          Medium            0.0   \n",
              "2              1.0                        0.0            High            0.0   \n",
              "3              1.0                        0.0          Medium            0.0   \n",
              "4              1.0                        0.0            Good            0.0   \n",
              "\n",
              "   Physical Health Difficulty Walking     Sex   Age  Education Income  \n",
              "0             30.0                0.0    male   4.0       Cat6   Cat8  \n",
              "1              0.0                0.0    male  12.0       Cat6   Cat8  \n",
              "2             10.0                0.0    male  13.0       Cat6   Cat8  \n",
              "3              3.0                0.0    male  11.0       Cat6   Cat8  \n",
              "4              0.0                0.0  female   8.0       Cat5   Cat8  \n",
              "\n",
              "[5 rows x 23 columns]"
            ],
            "text/html": [
              "\n",
              "  <div id=\"df-9feecb3d-734a-42a7-9eb2-28cb5c97bec4\">\n",
              "    <div class=\"colab-df-container\">\n",
              "      <div>\n",
              "<style scoped>\n",
              "    .dataframe tbody tr th:only-of-type {\n",
              "        vertical-align: middle;\n",
              "    }\n",
              "\n",
              "    .dataframe tbody tr th {\n",
              "        vertical-align: top;\n",
              "    }\n",
              "\n",
              "    .dataframe thead th {\n",
              "        text-align: right;\n",
              "    }\n",
              "</style>\n",
              "<table border=\"1\" class=\"dataframe\">\n",
              "  <thead>\n",
              "    <tr style=\"text-align: right;\">\n",
              "      <th></th>\n",
              "      <th>Unnamed: 0</th>\n",
              "      <th>Diabetes_binary</th>\n",
              "      <th>HighBP</th>\n",
              "      <th>High Cholesterol</th>\n",
              "      <th>Cholesterol Check</th>\n",
              "      <th>BMI</th>\n",
              "      <th>Smoker</th>\n",
              "      <th>Stroke</th>\n",
              "      <th>HeartDiseaseorAttack</th>\n",
              "      <th>Physical Activity</th>\n",
              "      <th>...</th>\n",
              "      <th>Any Health Care</th>\n",
              "      <th>No Doctor because of Cost</th>\n",
              "      <th>General Health</th>\n",
              "      <th>Mental Health</th>\n",
              "      <th>Physical Health</th>\n",
              "      <th>Difficulty Walking</th>\n",
              "      <th>Sex</th>\n",
              "      <th>Age</th>\n",
              "      <th>Education</th>\n",
              "      <th>Income</th>\n",
              "    </tr>\n",
              "  </thead>\n",
              "  <tbody>\n",
              "    <tr>\n",
              "      <th>0</th>\n",
              "      <td>0</td>\n",
              "      <td>0.0</td>\n",
              "      <td>1.0</td>\n",
              "      <td>0.0</td>\n",
              "      <td>1.0</td>\n",
              "      <td>26.0</td>\n",
              "      <td>0.0</td>\n",
              "      <td>0.0</td>\n",
              "      <td>0.0</td>\n",
              "      <td>1.0</td>\n",
              "      <td>...</td>\n",
              "      <td>1.0</td>\n",
              "      <td>0.0</td>\n",
              "      <td>Medium</td>\n",
              "      <td>5.0</td>\n",
              "      <td>30.0</td>\n",
              "      <td>0.0</td>\n",
              "      <td>male</td>\n",
              "      <td>4.0</td>\n",
              "      <td>Cat6</td>\n",
              "      <td>Cat8</td>\n",
              "    </tr>\n",
              "    <tr>\n",
              "      <th>1</th>\n",
              "      <td>1</td>\n",
              "      <td>0.0</td>\n",
              "      <td>1.0</td>\n",
              "      <td>1.0</td>\n",
              "      <td>1.0</td>\n",
              "      <td>26.0</td>\n",
              "      <td>1.0</td>\n",
              "      <td>1.0</td>\n",
              "      <td>0.0</td>\n",
              "      <td>0.0</td>\n",
              "      <td>...</td>\n",
              "      <td>1.0</td>\n",
              "      <td>0.0</td>\n",
              "      <td>Medium</td>\n",
              "      <td>0.0</td>\n",
              "      <td>0.0</td>\n",
              "      <td>0.0</td>\n",
              "      <td>male</td>\n",
              "      <td>12.0</td>\n",
              "      <td>Cat6</td>\n",
              "      <td>Cat8</td>\n",
              "    </tr>\n",
              "    <tr>\n",
              "      <th>2</th>\n",
              "      <td>2</td>\n",
              "      <td>0.0</td>\n",
              "      <td>0.0</td>\n",
              "      <td>0.0</td>\n",
              "      <td>1.0</td>\n",
              "      <td>26.0</td>\n",
              "      <td>0.0</td>\n",
              "      <td>0.0</td>\n",
              "      <td>0.0</td>\n",
              "      <td>1.0</td>\n",
              "      <td>...</td>\n",
              "      <td>1.0</td>\n",
              "      <td>0.0</td>\n",
              "      <td>High</td>\n",
              "      <td>0.0</td>\n",
              "      <td>10.0</td>\n",
              "      <td>0.0</td>\n",
              "      <td>male</td>\n",
              "      <td>13.0</td>\n",
              "      <td>Cat6</td>\n",
              "      <td>Cat8</td>\n",
              "    </tr>\n",
              "    <tr>\n",
              "      <th>3</th>\n",
              "      <td>3</td>\n",
              "      <td>0.0</td>\n",
              "      <td>1.0</td>\n",
              "      <td>1.0</td>\n",
              "      <td>1.0</td>\n",
              "      <td>28.0</td>\n",
              "      <td>1.0</td>\n",
              "      <td>0.0</td>\n",
              "      <td>0.0</td>\n",
              "      <td>1.0</td>\n",
              "      <td>...</td>\n",
              "      <td>1.0</td>\n",
              "      <td>0.0</td>\n",
              "      <td>Medium</td>\n",
              "      <td>0.0</td>\n",
              "      <td>3.0</td>\n",
              "      <td>0.0</td>\n",
              "      <td>male</td>\n",
              "      <td>11.0</td>\n",
              "      <td>Cat6</td>\n",
              "      <td>Cat8</td>\n",
              "    </tr>\n",
              "    <tr>\n",
              "      <th>4</th>\n",
              "      <td>4</td>\n",
              "      <td>0.0</td>\n",
              "      <td>0.0</td>\n",
              "      <td>0.0</td>\n",
              "      <td>1.0</td>\n",
              "      <td>29.0</td>\n",
              "      <td>1.0</td>\n",
              "      <td>0.0</td>\n",
              "      <td>0.0</td>\n",
              "      <td>1.0</td>\n",
              "      <td>...</td>\n",
              "      <td>1.0</td>\n",
              "      <td>0.0</td>\n",
              "      <td>Good</td>\n",
              "      <td>0.0</td>\n",
              "      <td>0.0</td>\n",
              "      <td>0.0</td>\n",
              "      <td>female</td>\n",
              "      <td>8.0</td>\n",
              "      <td>Cat5</td>\n",
              "      <td>Cat8</td>\n",
              "    </tr>\n",
              "  </tbody>\n",
              "</table>\n",
              "<p>5 rows × 23 columns</p>\n",
              "</div>\n",
              "      <button class=\"colab-df-convert\" onclick=\"convertToInteractive('df-9feecb3d-734a-42a7-9eb2-28cb5c97bec4')\"\n",
              "              title=\"Convert this dataframe to an interactive table.\"\n",
              "              style=\"display:none;\">\n",
              "        \n",
              "  <svg xmlns=\"http://www.w3.org/2000/svg\" height=\"24px\"viewBox=\"0 0 24 24\"\n",
              "       width=\"24px\">\n",
              "    <path d=\"M0 0h24v24H0V0z\" fill=\"none\"/>\n",
              "    <path d=\"M18.56 5.44l.94 2.06.94-2.06 2.06-.94-2.06-.94-.94-2.06-.94 2.06-2.06.94zm-11 1L8.5 8.5l.94-2.06 2.06-.94-2.06-.94L8.5 2.5l-.94 2.06-2.06.94zm10 10l.94 2.06.94-2.06 2.06-.94-2.06-.94-.94-2.06-.94 2.06-2.06.94z\"/><path d=\"M17.41 7.96l-1.37-1.37c-.4-.4-.92-.59-1.43-.59-.52 0-1.04.2-1.43.59L10.3 9.45l-7.72 7.72c-.78.78-.78 2.05 0 2.83L4 21.41c.39.39.9.59 1.41.59.51 0 1.02-.2 1.41-.59l7.78-7.78 2.81-2.81c.8-.78.8-2.07 0-2.86zM5.41 20L4 18.59l7.72-7.72 1.47 1.35L5.41 20z\"/>\n",
              "  </svg>\n",
              "      </button>\n",
              "      \n",
              "  <style>\n",
              "    .colab-df-container {\n",
              "      display:flex;\n",
              "      flex-wrap:wrap;\n",
              "      gap: 12px;\n",
              "    }\n",
              "\n",
              "    .colab-df-convert {\n",
              "      background-color: #E8F0FE;\n",
              "      border: none;\n",
              "      border-radius: 50%;\n",
              "      cursor: pointer;\n",
              "      display: none;\n",
              "      fill: #1967D2;\n",
              "      height: 32px;\n",
              "      padding: 0 0 0 0;\n",
              "      width: 32px;\n",
              "    }\n",
              "\n",
              "    .colab-df-convert:hover {\n",
              "      background-color: #E2EBFA;\n",
              "      box-shadow: 0px 1px 2px rgba(60, 64, 67, 0.3), 0px 1px 3px 1px rgba(60, 64, 67, 0.15);\n",
              "      fill: #174EA6;\n",
              "    }\n",
              "\n",
              "    [theme=dark] .colab-df-convert {\n",
              "      background-color: #3B4455;\n",
              "      fill: #D2E3FC;\n",
              "    }\n",
              "\n",
              "    [theme=dark] .colab-df-convert:hover {\n",
              "      background-color: #434B5C;\n",
              "      box-shadow: 0px 1px 3px 1px rgba(0, 0, 0, 0.15);\n",
              "      filter: drop-shadow(0px 1px 2px rgba(0, 0, 0, 0.3));\n",
              "      fill: #FFFFFF;\n",
              "    }\n",
              "  </style>\n",
              "\n",
              "      <script>\n",
              "        const buttonEl =\n",
              "          document.querySelector('#df-9feecb3d-734a-42a7-9eb2-28cb5c97bec4 button.colab-df-convert');\n",
              "        buttonEl.style.display =\n",
              "          google.colab.kernel.accessAllowed ? 'block' : 'none';\n",
              "\n",
              "        async function convertToInteractive(key) {\n",
              "          const element = document.querySelector('#df-9feecb3d-734a-42a7-9eb2-28cb5c97bec4');\n",
              "          const dataTable =\n",
              "            await google.colab.kernel.invokeFunction('convertToInteractive',\n",
              "                                                     [key], {});\n",
              "          if (!dataTable) return;\n",
              "\n",
              "          const docLinkHtml = 'Like what you see? Visit the ' +\n",
              "            '<a target=\"_blank\" href=https://colab.research.google.com/notebooks/data_table.ipynb>data table notebook</a>'\n",
              "            + ' to learn more about interactive tables.';\n",
              "          element.innerHTML = '';\n",
              "          dataTable['output_type'] = 'display_data';\n",
              "          await google.colab.output.renderOutput(dataTable, element);\n",
              "          const docLink = document.createElement('div');\n",
              "          docLink.innerHTML = docLinkHtml;\n",
              "          element.appendChild(docLink);\n",
              "        }\n",
              "      </script>\n",
              "    </div>\n",
              "  </div>\n",
              "  "
            ]
          },
          "metadata": {},
          "execution_count": 3
        }
      ],
      "source": [
        "diabets_df = pd.read_csv(\"/content/gdrive/MyDrive/DM/diabetes.csv\" ,skipinitialspace=True)\n",
        "diabets_df.head()"
      ]
    },
    {
      "cell_type": "markdown",
      "source": [
        "# handle null values"
      ],
      "metadata": {
        "id": "XVG8ozEE7EbB"
      }
    },
    {
      "cell_type": "markdown",
      "source": [
        "حال اول مشاهده میکنیم که در چه ستونهایی مقدار نال وجود دارد"
      ],
      "metadata": {
        "id": "fTrMHBMTPIqk"
      }
    },
    {
      "cell_type": "code",
      "execution_count": 4,
      "metadata": {
        "colab": {
          "base_uri": "https://localhost:8080/"
        },
        "id": "q15ucVEcwJCm",
        "outputId": "618d4a0f-6b48-44e7-b4b6-00917dbfab55"
      },
      "outputs": [
        {
          "output_type": "execute_result",
          "data": {
            "text/plain": [
              "Unnamed: 0                   0\n",
              "Diabetes_binary              0\n",
              "HighBP                       0\n",
              "High Cholesterol             0\n",
              "Cholesterol Check            0\n",
              "BMI                          1\n",
              "Smoker                       0\n",
              "Stroke                       0\n",
              "HeartDiseaseorAttack         1\n",
              "Physical Activity            1\n",
              "Fruits                       2\n",
              "Veggies                      1\n",
              "Heavy Alcohol Consumption    1\n",
              "Any Health Care              2\n",
              "No Doctor because of Cost    2\n",
              "General Health               1\n",
              "Mental Health                1\n",
              "Physical Health              1\n",
              "Difficulty Walking           2\n",
              "Sex                          1\n",
              "Age                          1\n",
              "Education                    1\n",
              "Income                       1\n",
              "dtype: int64"
            ]
          },
          "metadata": {},
          "execution_count": 4
        }
      ],
      "source": [
        "diabets_df.isnull().sum()"
      ]
    },
    {
      "cell_type": "markdown",
      "source": [
        "سپس این مقادیر را با مد جایگزین میکنیم\n",
        "چون بیشتر داده ها باینری هستند مد انتخاب بهتری از میانگین است"
      ],
      "metadata": {
        "id": "Kn2bWqKtPjqU"
      }
    },
    {
      "cell_type": "code",
      "execution_count": 5,
      "metadata": {
        "colab": {
          "base_uri": "https://localhost:8080/"
        },
        "id": "cqNUfxShvm8r",
        "outputId": "d6ef8d1b-075c-45f8-dcbc-590f23c0c07c"
      },
      "outputs": [
        {
          "output_type": "execute_result",
          "data": {
            "text/plain": [
              "Unnamed: 0                   0\n",
              "Diabetes_binary              0\n",
              "HighBP                       0\n",
              "High Cholesterol             0\n",
              "Cholesterol Check            0\n",
              "BMI                          0\n",
              "Smoker                       0\n",
              "Stroke                       0\n",
              "HeartDiseaseorAttack         0\n",
              "Physical Activity            0\n",
              "Fruits                       0\n",
              "Veggies                      0\n",
              "Heavy Alcohol Consumption    0\n",
              "Any Health Care              0\n",
              "No Doctor because of Cost    0\n",
              "General Health               0\n",
              "Mental Health                0\n",
              "Physical Health              0\n",
              "Difficulty Walking           0\n",
              "Sex                          0\n",
              "Age                          0\n",
              "Education                    0\n",
              "Income                       0\n",
              "dtype: int64"
            ]
          },
          "metadata": {},
          "execution_count": 5
        }
      ],
      "source": [
        "# replace null with mode\n",
        "for column in diabets_df.columns:\n",
        "    diabets_df[column].fillna(diabets_df[column].mode()[0], inplace=True)\n",
        "\n",
        "diabets_df.isnull().sum()"
      ]
    },
    {
      "cell_type": "code",
      "execution_count": 6,
      "metadata": {
        "id": "JjSSHEbuw4YV"
      },
      "outputs": [],
      "source": [
        "diabets_df = diabets_df.drop(['Unnamed: 0'], axis=1)"
      ]
    },
    {
      "cell_type": "markdown",
      "source": [
        "سپس بررسی میکنیم هر ستون چه مقدارهایی را گرفته است تا مقدارهای بی ربط را حذف کنیم\n",
        "تنها مقدار بی ربط در ستون درآمد است که آن را حذف میکنیم"
      ],
      "metadata": {
        "id": "dJSFUntwPyif"
      }
    },
    {
      "cell_type": "code",
      "source": [
        "for column in diabets_df.columns:\n",
        "  print(column)\n",
        "  print(diabets_df[column].value_counts())\n",
        "  print(\"========================\")\n",
        "\n"
      ],
      "metadata": {
        "colab": {
          "base_uri": "https://localhost:8080/"
        },
        "id": "13PdVF7B7VCn",
        "outputId": "2e3b2d3c-1191-4dc5-fa51-4cf261f0ddd4"
      },
      "execution_count": 7,
      "outputs": [
        {
          "output_type": "stream",
          "name": "stdout",
          "text": [
            "Diabetes_binary\n",
            "0.0    35346\n",
            "1.0    35346\n",
            "Name: Diabetes_binary, dtype: int64\n",
            "========================\n",
            "HighBP\n",
            "1.0    39832\n",
            "0.0    30860\n",
            "Name: HighBP, dtype: int64\n",
            "========================\n",
            "High Cholesterol\n",
            "1.0    37163\n",
            "0.0    33529\n",
            "Name: High Cholesterol, dtype: int64\n",
            "========================\n",
            "Cholesterol Check\n",
            "1.0    68943\n",
            "0.0     1749\n",
            "Name: Cholesterol Check, dtype: int64\n",
            "========================\n",
            "BMI\n",
            "27.0    6328\n",
            "26.0    4975\n",
            "28.0    4583\n",
            "24.0    4392\n",
            "30.0    4344\n",
            "        ... \n",
            "85.0       1\n",
            "83.0       1\n",
            "80.0       1\n",
            "78.0       1\n",
            "74.0       1\n",
            "Name: BMI, Length: 80, dtype: int64\n",
            "========================\n",
            "Smoker\n",
            "0.0    37094\n",
            "1.0    33598\n",
            "Name: Smoker, dtype: int64\n",
            "========================\n",
            "Stroke\n",
            "0.0    66297\n",
            "1.0     4395\n",
            "Name: Stroke, dtype: int64\n",
            "========================\n",
            "HeartDiseaseorAttack\n",
            "0.0    60243\n",
            "1.0    10449\n",
            "Name: HeartDiseaseorAttack, dtype: int64\n",
            "========================\n",
            "Physical Activity\n",
            "1.0    49699\n",
            "0.0    20993\n",
            "Name: Physical Activity, dtype: int64\n",
            "========================\n",
            "Fruits\n",
            "1.0    43249\n",
            "0.0    27443\n",
            "Name: Fruits, dtype: int64\n",
            "========================\n",
            "Veggies\n",
            "1.0    55760\n",
            "0.0    14932\n",
            "Name: Veggies, dtype: int64\n",
            "========================\n",
            "Heavy Alcohol Consumption\n",
            "0.0    67672\n",
            "1.0     3020\n",
            "Name: Heavy Alcohol Consumption, dtype: int64\n",
            "========================\n",
            "Any Health Care\n",
            "1.0    67508\n",
            "0.0     3184\n",
            "Name: Any Health Care, dtype: int64\n",
            "========================\n",
            "No Doctor because of Cost\n",
            "0.0    64053\n",
            "1.0     6639\n",
            "Name: No Doctor because of Cost, dtype: int64\n",
            "========================\n",
            "General Health\n",
            "Medium      23428\n",
            "Good        19871\n",
            "Low         13303\n",
            "High         8282\n",
            "Very Low     5808\n",
            "Name: General Health, dtype: int64\n",
            "========================\n",
            "Mental Health\n",
            "0.0     48092\n",
            "30.0     4320\n",
            "2.0      3266\n",
            "5.0      2519\n",
            "1.0      2051\n",
            "3.0      1967\n",
            "10.0     1924\n",
            "15.0     1767\n",
            "20.0     1125\n",
            "4.0       981\n",
            "7.0       825\n",
            "25.0      425\n",
            "14.0      353\n",
            "6.0       288\n",
            "8.0       198\n",
            "12.0      130\n",
            "28.0       99\n",
            "21.0       84\n",
            "29.0       53\n",
            "18.0       42\n",
            "16.0       28\n",
            "9.0        28\n",
            "22.0       22\n",
            "17.0       18\n",
            "26.0       17\n",
            "27.0       17\n",
            "13.0       15\n",
            "23.0       13\n",
            "24.0       10\n",
            "11.0        8\n",
            "19.0        7\n",
            "Name: Mental Health, dtype: int64\n",
            "========================\n",
            "Physical Health\n",
            "0.0     39915\n",
            "30.0     7953\n",
            "2.0      4102\n",
            "1.0      2853\n",
            "3.0      2438\n",
            "5.0      2332\n",
            "10.0     1980\n",
            "15.0     1913\n",
            "4.0      1376\n",
            "7.0      1326\n",
            "20.0     1292\n",
            "14.0      802\n",
            "25.0      557\n",
            "6.0       447\n",
            "8.0       276\n",
            "21.0      229\n",
            "28.0      211\n",
            "12.0      205\n",
            "29.0       95\n",
            "9.0        55\n",
            "18.0       50\n",
            "16.0       50\n",
            "17.0       35\n",
            "27.0       34\n",
            "22.0       31\n",
            "23.0       27\n",
            "26.0       26\n",
            "13.0       26\n",
            "24.0       24\n",
            "11.0       22\n",
            "19.0       10\n",
            "Name: Physical Health, dtype: int64\n",
            "========================\n",
            "Difficulty Walking\n",
            "0.0    52826\n",
            "1.0    17866\n",
            "Name: Difficulty Walking, dtype: int64\n",
            "========================\n",
            "Sex\n",
            "female    38386\n",
            "male      32306\n",
            "Name: Sex, dtype: int64\n",
            "========================\n",
            "Age\n",
            "10.0    10857\n",
            "9.0     10112\n",
            "8.0      8603\n",
            "11.0     8044\n",
            "7.0      6872\n",
            "13.0     5426\n",
            "12.0     5394\n",
            "6.0      4648\n",
            "5.0      3519\n",
            "4.0      2793\n",
            "3.0      2049\n",
            "2.0      1396\n",
            "1.0       979\n",
            "Name: Age, dtype: int64\n",
            "========================\n",
            "Education\n",
            "Cat6    26020\n",
            "Cat5    20030\n",
            "Cat4    19473\n",
            "Cat3     3447\n",
            "Cat2     1647\n",
            "Cat1       75\n",
            "Name: Education, dtype: int64\n",
            "========================\n",
            "Income\n",
            "Cat8       20646\n",
            "Cat7       11425\n",
            "Cat6       10287\n",
            "Cat5        8010\n",
            "Cat4        6658\n",
            "Cat3        5556\n",
            "Cat2        4498\n",
            "Cat1        3611\n",
            "Unknown        1\n",
            "Name: Income, dtype: int64\n",
            "========================\n"
          ]
        }
      ]
    },
    {
      "cell_type": "code",
      "source": [
        "#remove unknown value for Income\n",
        "\n",
        "diabets_df.drop(diabets_df[diabets_df.Income == 'Unknown'].index ,inplace=True)\n",
        "\n",
        "print(diabets_df['Income'].value_counts())"
      ],
      "metadata": {
        "colab": {
          "base_uri": "https://localhost:8080/"
        },
        "id": "8JnagbYi9bc0",
        "outputId": "28891795-1a9a-45f9-9989-e3781ffd3275"
      },
      "execution_count": 8,
      "outputs": [
        {
          "output_type": "stream",
          "name": "stdout",
          "text": [
            "Cat8    20646\n",
            "Cat7    11425\n",
            "Cat6    10287\n",
            "Cat5     8010\n",
            "Cat4     6658\n",
            "Cat3     5556\n",
            "Cat2     4498\n",
            "Cat1     3611\n",
            "Name: Income, dtype: int64\n"
          ]
        }
      ]
    },
    {
      "cell_type": "markdown",
      "source": [
        "# Rename columns"
      ],
      "metadata": {
        "id": "govYEivb7q23"
      }
    },
    {
      "cell_type": "code",
      "execution_count": 9,
      "metadata": {
        "colab": {
          "base_uri": "https://localhost:8080/"
        },
        "id": "b6NFEabJwof3",
        "outputId": "0b58879f-a7b5-47a3-ba20-e3fb4aa15337"
      },
      "outputs": [
        {
          "output_type": "execute_result",
          "data": {
            "text/plain": [
              "Index(['Diabetes_binary', 'HighBP', 'High_Cholesterol', 'Cholesterol_Check',\n",
              "       'BMI', 'Smoker', 'Stroke', 'Heart_Diseaseor_Attack',\n",
              "       'Physical_Activity', 'Fruits', 'Veggies', 'Heavy_Alcohol_Consumption',\n",
              "       'Any_Health_Care', 'No_Doctor', 'General_Health', 'Mental_Health',\n",
              "       'Physical_Health', 'Difficulty_Walking', 'Sex', 'Age', 'Education',\n",
              "       'Income'],\n",
              "      dtype='object')"
            ]
          },
          "metadata": {},
          "execution_count": 9
        }
      ],
      "source": [
        "diabets_df = diabets_df.rename(columns={\"High Cholesterol\": \"High_Cholesterol\", \"Cholesterol Check\": \"Cholesterol_Check\" ,\"HeartDiseaseorAttack\" :\"Heart_Diseaseor_Attack\" ,\"Physical Activity\":\"Physical_Activity\" , \"Heavy Alcohol Consumption\" :\"Heavy_Alcohol_Consumption\" ,\"Any Health Care\" : \"Any_Health_Care\" ,\"No Doctor because of Cost\" : \"No_Doctor\" ,\"General Health\" :\"General_Health\" ,\"Mental Health\" : \"Mental_Health\" ,\"Physical Health\" :\"Physical_Health\" ,\"Difficulty Walking\" :\"Difficulty_Walking\" })\n",
        "diabets_df.columns"
      ]
    },
    {
      "cell_type": "markdown",
      "source": [
        "# One Hot Encode"
      ],
      "metadata": {
        "id": "yxQ6CyhA9jkY"
      }
    },
    {
      "cell_type": "markdown",
      "source": [
        "حال تایپ هر ستون را بررسی میکنیم تا آنهایی که تایپشان آبجکت هست را وان هات اینکود کنیم"
      ],
      "metadata": {
        "id": "qQIFxBcrQAdO"
      }
    },
    {
      "cell_type": "code",
      "execution_count": 10,
      "metadata": {
        "colab": {
          "base_uri": "https://localhost:8080/"
        },
        "id": "h1JUomshy-Qi",
        "outputId": "492b780a-64ad-4ca1-a446-a904043cb3a3"
      },
      "outputs": [
        {
          "output_type": "execute_result",
          "data": {
            "text/plain": [
              "Diabetes_binary              float64\n",
              "HighBP                       float64\n",
              "High_Cholesterol             float64\n",
              "Cholesterol_Check            float64\n",
              "BMI                          float64\n",
              "Smoker                       float64\n",
              "Stroke                       float64\n",
              "Heart_Diseaseor_Attack       float64\n",
              "Physical_Activity            float64\n",
              "Fruits                       float64\n",
              "Veggies                      float64\n",
              "Heavy_Alcohol_Consumption    float64\n",
              "Any_Health_Care              float64\n",
              "No_Doctor                    float64\n",
              "General_Health                object\n",
              "Mental_Health                float64\n",
              "Physical_Health              float64\n",
              "Difficulty_Walking           float64\n",
              "Sex                           object\n",
              "Age                          float64\n",
              "Education                     object\n",
              "Income                        object\n",
              "dtype: object"
            ]
          },
          "metadata": {},
          "execution_count": 10
        }
      ],
      "source": [
        "diabets_df.dtypes"
      ]
    },
    {
      "cell_type": "code",
      "execution_count": 11,
      "metadata": {
        "id": "k-wgq1YN3s7Y"
      },
      "outputs": [],
      "source": [
        "import sklearn\n",
        "from sklearn.preprocessing import StandardScaler"
      ]
    },
    {
      "cell_type": "code",
      "execution_count": 12,
      "metadata": {
        "colab": {
          "base_uri": "https://localhost:8080/"
        },
        "id": "Vqt5OuAZ5N2A",
        "outputId": "ee084d83-cc66-4e15-ae3a-d7a911a9b530"
      },
      "outputs": [
        {
          "output_type": "stream",
          "name": "stdout",
          "text": [
            "General health categroies :\n",
            "Medium      23428\n",
            "Good        19871\n",
            "Low         13302\n",
            "High         8282\n",
            "Very Low     5808\n",
            "Name: General_Health, dtype: int64\n",
            "==========================================\n",
            "Sex categroies :\n",
            "female    38385\n",
            "male      32306\n",
            "Name: Sex, dtype: int64\n",
            "==========================================\n",
            "Education categroies :\n",
            "Cat6    26020\n",
            "Cat5    20029\n",
            "Cat4    19473\n",
            "Cat3     3447\n",
            "Cat2     1647\n",
            "Cat1       75\n",
            "Name: Education, dtype: int64\n",
            "==========================================\n",
            "Income categroies :\n",
            "Cat8    20646\n",
            "Cat7    11425\n",
            "Cat6    10287\n",
            "Cat5     8010\n",
            "Cat4     6658\n",
            "Cat3     5556\n",
            "Cat2     4498\n",
            "Cat1     3611\n",
            "Name: Income, dtype: int64\n"
          ]
        }
      ],
      "source": [
        "\n",
        "print(\"General health categroies :\")\n",
        "print(diabets_df['General_Health'].value_counts())\n",
        "print(\"==========================================\")\n",
        "\n",
        "print(\"Sex categroies :\")\n",
        "print(diabets_df['Sex'].value_counts())\n",
        "print(\"==========================================\")\n",
        "\n",
        "print(\"Education categroies :\")\n",
        "print(diabets_df['Education'].value_counts())\n",
        "print(\"==========================================\")\n",
        "\n",
        "print(\"Income categroies :\")\n",
        "print(diabets_df['Income'].value_counts())\n"
      ]
    },
    {
      "cell_type": "markdown",
      "source": [
        "برای وان هات اینکود از روش دامیز استفاده میکنیم و مقدار اینکود شده به ستون های دیتاست اضافه میشود"
      ],
      "metadata": {
        "id": "9qKNy-s5QLcP"
      }
    },
    {
      "cell_type": "code",
      "execution_count": 13,
      "metadata": {
        "colab": {
          "base_uri": "https://localhost:8080/",
          "height": 299
        },
        "id": "XiVHruyXCkd_",
        "outputId": "98dd24cb-8900-4fe3-c489-f3a9b8dc9ec8"
      },
      "outputs": [
        {
          "output_type": "execute_result",
          "data": {
            "text/plain": [
              "   Diabetes_binary  HighBP  High_Cholesterol  Cholesterol_Check   BMI  Smoker  \\\n",
              "0              0.0     1.0               0.0                1.0  26.0     0.0   \n",
              "1              0.0     1.0               1.0                1.0  26.0     1.0   \n",
              "2              0.0     0.0               0.0                1.0  26.0     0.0   \n",
              "3              0.0     1.0               1.0                1.0  28.0     1.0   \n",
              "4              0.0     0.0               0.0                1.0  29.0     1.0   \n",
              "\n",
              "   Stroke  Heart_Diseaseor_Attack  Physical_Activity  Fruits  ...  \\\n",
              "0     0.0                     0.0                1.0     0.0  ...   \n",
              "1     1.0                     0.0                0.0     1.0  ...   \n",
              "2     0.0                     0.0                1.0     1.0  ...   \n",
              "3     0.0                     0.0                1.0     1.0  ...   \n",
              "4     0.0                     0.0                1.0     1.0  ...   \n",
              "\n",
              "   Education_Cat5  Education_Cat6  Income_Cat1  Income_Cat2  Income_Cat3  \\\n",
              "0               0               1            0            0            0   \n",
              "1               0               1            0            0            0   \n",
              "2               0               1            0            0            0   \n",
              "3               0               1            0            0            0   \n",
              "4               1               0            0            0            0   \n",
              "\n",
              "   Income_Cat4  Income_Cat5  Income_Cat6  Income_Cat7  Income_Cat8  \n",
              "0            0            0            0            0            1  \n",
              "1            0            0            0            0            1  \n",
              "2            0            0            0            0            1  \n",
              "3            0            0            0            0            1  \n",
              "4            0            0            0            0            1  \n",
              "\n",
              "[5 rows x 39 columns]"
            ],
            "text/html": [
              "\n",
              "  <div id=\"df-01629b0e-2ec7-4316-b878-663ff6d82234\">\n",
              "    <div class=\"colab-df-container\">\n",
              "      <div>\n",
              "<style scoped>\n",
              "    .dataframe tbody tr th:only-of-type {\n",
              "        vertical-align: middle;\n",
              "    }\n",
              "\n",
              "    .dataframe tbody tr th {\n",
              "        vertical-align: top;\n",
              "    }\n",
              "\n",
              "    .dataframe thead th {\n",
              "        text-align: right;\n",
              "    }\n",
              "</style>\n",
              "<table border=\"1\" class=\"dataframe\">\n",
              "  <thead>\n",
              "    <tr style=\"text-align: right;\">\n",
              "      <th></th>\n",
              "      <th>Diabetes_binary</th>\n",
              "      <th>HighBP</th>\n",
              "      <th>High_Cholesterol</th>\n",
              "      <th>Cholesterol_Check</th>\n",
              "      <th>BMI</th>\n",
              "      <th>Smoker</th>\n",
              "      <th>Stroke</th>\n",
              "      <th>Heart_Diseaseor_Attack</th>\n",
              "      <th>Physical_Activity</th>\n",
              "      <th>Fruits</th>\n",
              "      <th>...</th>\n",
              "      <th>Education_Cat5</th>\n",
              "      <th>Education_Cat6</th>\n",
              "      <th>Income_Cat1</th>\n",
              "      <th>Income_Cat2</th>\n",
              "      <th>Income_Cat3</th>\n",
              "      <th>Income_Cat4</th>\n",
              "      <th>Income_Cat5</th>\n",
              "      <th>Income_Cat6</th>\n",
              "      <th>Income_Cat7</th>\n",
              "      <th>Income_Cat8</th>\n",
              "    </tr>\n",
              "  </thead>\n",
              "  <tbody>\n",
              "    <tr>\n",
              "      <th>0</th>\n",
              "      <td>0.0</td>\n",
              "      <td>1.0</td>\n",
              "      <td>0.0</td>\n",
              "      <td>1.0</td>\n",
              "      <td>26.0</td>\n",
              "      <td>0.0</td>\n",
              "      <td>0.0</td>\n",
              "      <td>0.0</td>\n",
              "      <td>1.0</td>\n",
              "      <td>0.0</td>\n",
              "      <td>...</td>\n",
              "      <td>0</td>\n",
              "      <td>1</td>\n",
              "      <td>0</td>\n",
              "      <td>0</td>\n",
              "      <td>0</td>\n",
              "      <td>0</td>\n",
              "      <td>0</td>\n",
              "      <td>0</td>\n",
              "      <td>0</td>\n",
              "      <td>1</td>\n",
              "    </tr>\n",
              "    <tr>\n",
              "      <th>1</th>\n",
              "      <td>0.0</td>\n",
              "      <td>1.0</td>\n",
              "      <td>1.0</td>\n",
              "      <td>1.0</td>\n",
              "      <td>26.0</td>\n",
              "      <td>1.0</td>\n",
              "      <td>1.0</td>\n",
              "      <td>0.0</td>\n",
              "      <td>0.0</td>\n",
              "      <td>1.0</td>\n",
              "      <td>...</td>\n",
              "      <td>0</td>\n",
              "      <td>1</td>\n",
              "      <td>0</td>\n",
              "      <td>0</td>\n",
              "      <td>0</td>\n",
              "      <td>0</td>\n",
              "      <td>0</td>\n",
              "      <td>0</td>\n",
              "      <td>0</td>\n",
              "      <td>1</td>\n",
              "    </tr>\n",
              "    <tr>\n",
              "      <th>2</th>\n",
              "      <td>0.0</td>\n",
              "      <td>0.0</td>\n",
              "      <td>0.0</td>\n",
              "      <td>1.0</td>\n",
              "      <td>26.0</td>\n",
              "      <td>0.0</td>\n",
              "      <td>0.0</td>\n",
              "      <td>0.0</td>\n",
              "      <td>1.0</td>\n",
              "      <td>1.0</td>\n",
              "      <td>...</td>\n",
              "      <td>0</td>\n",
              "      <td>1</td>\n",
              "      <td>0</td>\n",
              "      <td>0</td>\n",
              "      <td>0</td>\n",
              "      <td>0</td>\n",
              "      <td>0</td>\n",
              "      <td>0</td>\n",
              "      <td>0</td>\n",
              "      <td>1</td>\n",
              "    </tr>\n",
              "    <tr>\n",
              "      <th>3</th>\n",
              "      <td>0.0</td>\n",
              "      <td>1.0</td>\n",
              "      <td>1.0</td>\n",
              "      <td>1.0</td>\n",
              "      <td>28.0</td>\n",
              "      <td>1.0</td>\n",
              "      <td>0.0</td>\n",
              "      <td>0.0</td>\n",
              "      <td>1.0</td>\n",
              "      <td>1.0</td>\n",
              "      <td>...</td>\n",
              "      <td>0</td>\n",
              "      <td>1</td>\n",
              "      <td>0</td>\n",
              "      <td>0</td>\n",
              "      <td>0</td>\n",
              "      <td>0</td>\n",
              "      <td>0</td>\n",
              "      <td>0</td>\n",
              "      <td>0</td>\n",
              "      <td>1</td>\n",
              "    </tr>\n",
              "    <tr>\n",
              "      <th>4</th>\n",
              "      <td>0.0</td>\n",
              "      <td>0.0</td>\n",
              "      <td>0.0</td>\n",
              "      <td>1.0</td>\n",
              "      <td>29.0</td>\n",
              "      <td>1.0</td>\n",
              "      <td>0.0</td>\n",
              "      <td>0.0</td>\n",
              "      <td>1.0</td>\n",
              "      <td>1.0</td>\n",
              "      <td>...</td>\n",
              "      <td>1</td>\n",
              "      <td>0</td>\n",
              "      <td>0</td>\n",
              "      <td>0</td>\n",
              "      <td>0</td>\n",
              "      <td>0</td>\n",
              "      <td>0</td>\n",
              "      <td>0</td>\n",
              "      <td>0</td>\n",
              "      <td>1</td>\n",
              "    </tr>\n",
              "  </tbody>\n",
              "</table>\n",
              "<p>5 rows × 39 columns</p>\n",
              "</div>\n",
              "      <button class=\"colab-df-convert\" onclick=\"convertToInteractive('df-01629b0e-2ec7-4316-b878-663ff6d82234')\"\n",
              "              title=\"Convert this dataframe to an interactive table.\"\n",
              "              style=\"display:none;\">\n",
              "        \n",
              "  <svg xmlns=\"http://www.w3.org/2000/svg\" height=\"24px\"viewBox=\"0 0 24 24\"\n",
              "       width=\"24px\">\n",
              "    <path d=\"M0 0h24v24H0V0z\" fill=\"none\"/>\n",
              "    <path d=\"M18.56 5.44l.94 2.06.94-2.06 2.06-.94-2.06-.94-.94-2.06-.94 2.06-2.06.94zm-11 1L8.5 8.5l.94-2.06 2.06-.94-2.06-.94L8.5 2.5l-.94 2.06-2.06.94zm10 10l.94 2.06.94-2.06 2.06-.94-2.06-.94-.94-2.06-.94 2.06-2.06.94z\"/><path d=\"M17.41 7.96l-1.37-1.37c-.4-.4-.92-.59-1.43-.59-.52 0-1.04.2-1.43.59L10.3 9.45l-7.72 7.72c-.78.78-.78 2.05 0 2.83L4 21.41c.39.39.9.59 1.41.59.51 0 1.02-.2 1.41-.59l7.78-7.78 2.81-2.81c.8-.78.8-2.07 0-2.86zM5.41 20L4 18.59l7.72-7.72 1.47 1.35L5.41 20z\"/>\n",
              "  </svg>\n",
              "      </button>\n",
              "      \n",
              "  <style>\n",
              "    .colab-df-container {\n",
              "      display:flex;\n",
              "      flex-wrap:wrap;\n",
              "      gap: 12px;\n",
              "    }\n",
              "\n",
              "    .colab-df-convert {\n",
              "      background-color: #E8F0FE;\n",
              "      border: none;\n",
              "      border-radius: 50%;\n",
              "      cursor: pointer;\n",
              "      display: none;\n",
              "      fill: #1967D2;\n",
              "      height: 32px;\n",
              "      padding: 0 0 0 0;\n",
              "      width: 32px;\n",
              "    }\n",
              "\n",
              "    .colab-df-convert:hover {\n",
              "      background-color: #E2EBFA;\n",
              "      box-shadow: 0px 1px 2px rgba(60, 64, 67, 0.3), 0px 1px 3px 1px rgba(60, 64, 67, 0.15);\n",
              "      fill: #174EA6;\n",
              "    }\n",
              "\n",
              "    [theme=dark] .colab-df-convert {\n",
              "      background-color: #3B4455;\n",
              "      fill: #D2E3FC;\n",
              "    }\n",
              "\n",
              "    [theme=dark] .colab-df-convert:hover {\n",
              "      background-color: #434B5C;\n",
              "      box-shadow: 0px 1px 3px 1px rgba(0, 0, 0, 0.15);\n",
              "      filter: drop-shadow(0px 1px 2px rgba(0, 0, 0, 0.3));\n",
              "      fill: #FFFFFF;\n",
              "    }\n",
              "  </style>\n",
              "\n",
              "      <script>\n",
              "        const buttonEl =\n",
              "          document.querySelector('#df-01629b0e-2ec7-4316-b878-663ff6d82234 button.colab-df-convert');\n",
              "        buttonEl.style.display =\n",
              "          google.colab.kernel.accessAllowed ? 'block' : 'none';\n",
              "\n",
              "        async function convertToInteractive(key) {\n",
              "          const element = document.querySelector('#df-01629b0e-2ec7-4316-b878-663ff6d82234');\n",
              "          const dataTable =\n",
              "            await google.colab.kernel.invokeFunction('convertToInteractive',\n",
              "                                                     [key], {});\n",
              "          if (!dataTable) return;\n",
              "\n",
              "          const docLinkHtml = 'Like what you see? Visit the ' +\n",
              "            '<a target=\"_blank\" href=https://colab.research.google.com/notebooks/data_table.ipynb>data table notebook</a>'\n",
              "            + ' to learn more about interactive tables.';\n",
              "          element.innerHTML = '';\n",
              "          dataTable['output_type'] = 'display_data';\n",
              "          await google.colab.output.renderOutput(dataTable, element);\n",
              "          const docLink = document.createElement('div');\n",
              "          docLink.innerHTML = docLinkHtml;\n",
              "          element.appendChild(docLink);\n",
              "        }\n",
              "      </script>\n",
              "    </div>\n",
              "  </div>\n",
              "  "
            ]
          },
          "metadata": {},
          "execution_count": 13
        }
      ],
      "source": [
        "# one hot encode\n",
        "sex_types = ('female' ,'male')\n",
        "dum_df_sex = pd.get_dummies(diabets_df, columns=[\"Sex\"], prefix=[\"sex\"] )\n",
        "dum_df_general_health = pd.get_dummies(dum_df_sex, columns=[\"General_Health\"], prefix=[\"General_health\"] )\n",
        "dum_df_education = pd.get_dummies(dum_df_general_health, columns=[\"Education\"], prefix=[\"Education\"] )\n",
        "dum_df_income = pd.get_dummies(dum_df_education, columns=[\"Income\"], prefix=[\"Income\"] )\n",
        "one_hot_df = dum_df_income\n",
        "one_hot_df.head()"
      ]
    },
    {
      "cell_type": "code",
      "execution_count": 14,
      "metadata": {
        "colab": {
          "base_uri": "https://localhost:8080/"
        },
        "id": "5kNT6KdhXIs0",
        "outputId": "b8315ddc-510a-4f63-f03a-9ee20d6a81b0"
      },
      "outputs": [
        {
          "output_type": "execute_result",
          "data": {
            "text/plain": [
              "Index(['Diabetes_binary', 'HighBP', 'High_Cholesterol', 'Cholesterol_Check',\n",
              "       'BMI', 'Smoker', 'Stroke', 'Heart_Diseaseor_Attack',\n",
              "       'Physical_Activity', 'Fruits', 'Veggies', 'Heavy_Alcohol_Consumption',\n",
              "       'Any_Health_Care', 'No_Doctor', 'Mental_Health', 'Physical_Health',\n",
              "       'Difficulty_Walking', 'Age', 'sex_female', 'sex_male',\n",
              "       'General_health_Good', 'General_health_High', 'General_health_Low',\n",
              "       'General_health_Medium', 'General_health_Very Low', 'Education_Cat1',\n",
              "       'Education_Cat2', 'Education_Cat3', 'Education_Cat4', 'Education_Cat5',\n",
              "       'Education_Cat6', 'Income_Cat1', 'Income_Cat2', 'Income_Cat3',\n",
              "       'Income_Cat4', 'Income_Cat5', 'Income_Cat6', 'Income_Cat7',\n",
              "       'Income_Cat8'],\n",
              "      dtype='object')"
            ]
          },
          "metadata": {},
          "execution_count": 14
        }
      ],
      "source": [
        "# target = one_hot_df.loc[:,['Diabetes_binary']].values\n",
        "# one_hot_df = one_hot_df.drop(['Diabetes_binary'], axis=1)\n",
        "# features = one_hot_df.iloc[:,1:].values\n",
        "one_hot_df.columns"
      ]
    },
    {
      "cell_type": "markdown",
      "source": [
        "# Normalize Data"
      ],
      "metadata": {
        "id": "OpEIyH2c952O"
      }
    },
    {
      "cell_type": "markdown",
      "source": [
        "برای نرمال سازی مقیاس همه داده ها را با استفاده از استاندارد اسکالر عوض کرده و همه را به یک رنج میبریم"
      ],
      "metadata": {
        "id": "9GAcFKxtQY1x"
      }
    },
    {
      "cell_type": "code",
      "execution_count": 15,
      "metadata": {
        "colab": {
          "base_uri": "https://localhost:8080/",
          "height": 299
        },
        "id": "-6bAmMDw4El9",
        "outputId": "43c88ef7-a58c-47ce-b5a0-3d80bb211ef1"
      },
      "outputs": [
        {
          "output_type": "execute_result",
          "data": {
            "text/plain": [
              "   Diabetes_binary    HighBP  High_Cholesterol  Cholesterol_Check       BMI  \\\n",
              "0              0.0  0.880212         -1.052784            0.15923 -0.542161   \n",
              "1              0.0  0.880212          0.949863            0.15923 -0.542161   \n",
              "2              0.0 -1.136090         -1.052784            0.15923 -0.542161   \n",
              "3              0.0  0.880212          0.949863            0.15923 -0.261024   \n",
              "4              0.0 -1.136090         -1.052784            0.15923 -0.120455   \n",
              "\n",
              "     Smoker    Stroke  Heart_Diseaseor_Attack  Physical_Activity    Fruits  \\\n",
              "0 -0.951696 -0.257444               -0.416474           0.649932 -1.255394   \n",
              "1  1.050755  3.884337               -0.416474          -1.538623  0.796562   \n",
              "2 -0.951696 -0.257444               -0.416474           0.649932  0.796562   \n",
              "3  1.050755 -0.257444               -0.416474           0.649932  0.796562   \n",
              "4  1.050755 -0.257444               -0.416474           0.649932  0.796562   \n",
              "\n",
              "   ...  Education_Cat5  Education_Cat6  Income_Cat1  Income_Cat2  Income_Cat3  \\\n",
              "0  ...       -0.628765        1.310265    -0.232016    -0.260678    -0.292061   \n",
              "1  ...       -0.628765        1.310265    -0.232016    -0.260678    -0.292061   \n",
              "2  ...       -0.628765        1.310265    -0.232016    -0.260678    -0.292061   \n",
              "3  ...       -0.628765        1.310265    -0.232016    -0.260678    -0.292061   \n",
              "4  ...        1.590419       -0.763204    -0.232016    -0.260678    -0.292061   \n",
              "\n",
              "   Income_Cat4  Income_Cat5  Income_Cat6  Income_Cat7  Income_Cat8  \n",
              "0    -0.322456    -0.357477    -0.412678    -0.439061     1.556906  \n",
              "1    -0.322456    -0.357477    -0.412678    -0.439061     1.556906  \n",
              "2    -0.322456    -0.357477    -0.412678    -0.439061     1.556906  \n",
              "3    -0.322456    -0.357477    -0.412678    -0.439061     1.556906  \n",
              "4    -0.322456    -0.357477    -0.412678    -0.439061     1.556906  \n",
              "\n",
              "[5 rows x 39 columns]"
            ],
            "text/html": [
              "\n",
              "  <div id=\"df-ba91dc4e-ce03-4a31-8a9d-ec5abfc248e3\">\n",
              "    <div class=\"colab-df-container\">\n",
              "      <div>\n",
              "<style scoped>\n",
              "    .dataframe tbody tr th:only-of-type {\n",
              "        vertical-align: middle;\n",
              "    }\n",
              "\n",
              "    .dataframe tbody tr th {\n",
              "        vertical-align: top;\n",
              "    }\n",
              "\n",
              "    .dataframe thead th {\n",
              "        text-align: right;\n",
              "    }\n",
              "</style>\n",
              "<table border=\"1\" class=\"dataframe\">\n",
              "  <thead>\n",
              "    <tr style=\"text-align: right;\">\n",
              "      <th></th>\n",
              "      <th>Diabetes_binary</th>\n",
              "      <th>HighBP</th>\n",
              "      <th>High_Cholesterol</th>\n",
              "      <th>Cholesterol_Check</th>\n",
              "      <th>BMI</th>\n",
              "      <th>Smoker</th>\n",
              "      <th>Stroke</th>\n",
              "      <th>Heart_Diseaseor_Attack</th>\n",
              "      <th>Physical_Activity</th>\n",
              "      <th>Fruits</th>\n",
              "      <th>...</th>\n",
              "      <th>Education_Cat5</th>\n",
              "      <th>Education_Cat6</th>\n",
              "      <th>Income_Cat1</th>\n",
              "      <th>Income_Cat2</th>\n",
              "      <th>Income_Cat3</th>\n",
              "      <th>Income_Cat4</th>\n",
              "      <th>Income_Cat5</th>\n",
              "      <th>Income_Cat6</th>\n",
              "      <th>Income_Cat7</th>\n",
              "      <th>Income_Cat8</th>\n",
              "    </tr>\n",
              "  </thead>\n",
              "  <tbody>\n",
              "    <tr>\n",
              "      <th>0</th>\n",
              "      <td>0.0</td>\n",
              "      <td>0.880212</td>\n",
              "      <td>-1.052784</td>\n",
              "      <td>0.15923</td>\n",
              "      <td>-0.542161</td>\n",
              "      <td>-0.951696</td>\n",
              "      <td>-0.257444</td>\n",
              "      <td>-0.416474</td>\n",
              "      <td>0.649932</td>\n",
              "      <td>-1.255394</td>\n",
              "      <td>...</td>\n",
              "      <td>-0.628765</td>\n",
              "      <td>1.310265</td>\n",
              "      <td>-0.232016</td>\n",
              "      <td>-0.260678</td>\n",
              "      <td>-0.292061</td>\n",
              "      <td>-0.322456</td>\n",
              "      <td>-0.357477</td>\n",
              "      <td>-0.412678</td>\n",
              "      <td>-0.439061</td>\n",
              "      <td>1.556906</td>\n",
              "    </tr>\n",
              "    <tr>\n",
              "      <th>1</th>\n",
              "      <td>0.0</td>\n",
              "      <td>0.880212</td>\n",
              "      <td>0.949863</td>\n",
              "      <td>0.15923</td>\n",
              "      <td>-0.542161</td>\n",
              "      <td>1.050755</td>\n",
              "      <td>3.884337</td>\n",
              "      <td>-0.416474</td>\n",
              "      <td>-1.538623</td>\n",
              "      <td>0.796562</td>\n",
              "      <td>...</td>\n",
              "      <td>-0.628765</td>\n",
              "      <td>1.310265</td>\n",
              "      <td>-0.232016</td>\n",
              "      <td>-0.260678</td>\n",
              "      <td>-0.292061</td>\n",
              "      <td>-0.322456</td>\n",
              "      <td>-0.357477</td>\n",
              "      <td>-0.412678</td>\n",
              "      <td>-0.439061</td>\n",
              "      <td>1.556906</td>\n",
              "    </tr>\n",
              "    <tr>\n",
              "      <th>2</th>\n",
              "      <td>0.0</td>\n",
              "      <td>-1.136090</td>\n",
              "      <td>-1.052784</td>\n",
              "      <td>0.15923</td>\n",
              "      <td>-0.542161</td>\n",
              "      <td>-0.951696</td>\n",
              "      <td>-0.257444</td>\n",
              "      <td>-0.416474</td>\n",
              "      <td>0.649932</td>\n",
              "      <td>0.796562</td>\n",
              "      <td>...</td>\n",
              "      <td>-0.628765</td>\n",
              "      <td>1.310265</td>\n",
              "      <td>-0.232016</td>\n",
              "      <td>-0.260678</td>\n",
              "      <td>-0.292061</td>\n",
              "      <td>-0.322456</td>\n",
              "      <td>-0.357477</td>\n",
              "      <td>-0.412678</td>\n",
              "      <td>-0.439061</td>\n",
              "      <td>1.556906</td>\n",
              "    </tr>\n",
              "    <tr>\n",
              "      <th>3</th>\n",
              "      <td>0.0</td>\n",
              "      <td>0.880212</td>\n",
              "      <td>0.949863</td>\n",
              "      <td>0.15923</td>\n",
              "      <td>-0.261024</td>\n",
              "      <td>1.050755</td>\n",
              "      <td>-0.257444</td>\n",
              "      <td>-0.416474</td>\n",
              "      <td>0.649932</td>\n",
              "      <td>0.796562</td>\n",
              "      <td>...</td>\n",
              "      <td>-0.628765</td>\n",
              "      <td>1.310265</td>\n",
              "      <td>-0.232016</td>\n",
              "      <td>-0.260678</td>\n",
              "      <td>-0.292061</td>\n",
              "      <td>-0.322456</td>\n",
              "      <td>-0.357477</td>\n",
              "      <td>-0.412678</td>\n",
              "      <td>-0.439061</td>\n",
              "      <td>1.556906</td>\n",
              "    </tr>\n",
              "    <tr>\n",
              "      <th>4</th>\n",
              "      <td>0.0</td>\n",
              "      <td>-1.136090</td>\n",
              "      <td>-1.052784</td>\n",
              "      <td>0.15923</td>\n",
              "      <td>-0.120455</td>\n",
              "      <td>1.050755</td>\n",
              "      <td>-0.257444</td>\n",
              "      <td>-0.416474</td>\n",
              "      <td>0.649932</td>\n",
              "      <td>0.796562</td>\n",
              "      <td>...</td>\n",
              "      <td>1.590419</td>\n",
              "      <td>-0.763204</td>\n",
              "      <td>-0.232016</td>\n",
              "      <td>-0.260678</td>\n",
              "      <td>-0.292061</td>\n",
              "      <td>-0.322456</td>\n",
              "      <td>-0.357477</td>\n",
              "      <td>-0.412678</td>\n",
              "      <td>-0.439061</td>\n",
              "      <td>1.556906</td>\n",
              "    </tr>\n",
              "  </tbody>\n",
              "</table>\n",
              "<p>5 rows × 39 columns</p>\n",
              "</div>\n",
              "      <button class=\"colab-df-convert\" onclick=\"convertToInteractive('df-ba91dc4e-ce03-4a31-8a9d-ec5abfc248e3')\"\n",
              "              title=\"Convert this dataframe to an interactive table.\"\n",
              "              style=\"display:none;\">\n",
              "        \n",
              "  <svg xmlns=\"http://www.w3.org/2000/svg\" height=\"24px\"viewBox=\"0 0 24 24\"\n",
              "       width=\"24px\">\n",
              "    <path d=\"M0 0h24v24H0V0z\" fill=\"none\"/>\n",
              "    <path d=\"M18.56 5.44l.94 2.06.94-2.06 2.06-.94-2.06-.94-.94-2.06-.94 2.06-2.06.94zm-11 1L8.5 8.5l.94-2.06 2.06-.94-2.06-.94L8.5 2.5l-.94 2.06-2.06.94zm10 10l.94 2.06.94-2.06 2.06-.94-2.06-.94-.94-2.06-.94 2.06-2.06.94z\"/><path d=\"M17.41 7.96l-1.37-1.37c-.4-.4-.92-.59-1.43-.59-.52 0-1.04.2-1.43.59L10.3 9.45l-7.72 7.72c-.78.78-.78 2.05 0 2.83L4 21.41c.39.39.9.59 1.41.59.51 0 1.02-.2 1.41-.59l7.78-7.78 2.81-2.81c.8-.78.8-2.07 0-2.86zM5.41 20L4 18.59l7.72-7.72 1.47 1.35L5.41 20z\"/>\n",
              "  </svg>\n",
              "      </button>\n",
              "      \n",
              "  <style>\n",
              "    .colab-df-container {\n",
              "      display:flex;\n",
              "      flex-wrap:wrap;\n",
              "      gap: 12px;\n",
              "    }\n",
              "\n",
              "    .colab-df-convert {\n",
              "      background-color: #E8F0FE;\n",
              "      border: none;\n",
              "      border-radius: 50%;\n",
              "      cursor: pointer;\n",
              "      display: none;\n",
              "      fill: #1967D2;\n",
              "      height: 32px;\n",
              "      padding: 0 0 0 0;\n",
              "      width: 32px;\n",
              "    }\n",
              "\n",
              "    .colab-df-convert:hover {\n",
              "      background-color: #E2EBFA;\n",
              "      box-shadow: 0px 1px 2px rgba(60, 64, 67, 0.3), 0px 1px 3px 1px rgba(60, 64, 67, 0.15);\n",
              "      fill: #174EA6;\n",
              "    }\n",
              "\n",
              "    [theme=dark] .colab-df-convert {\n",
              "      background-color: #3B4455;\n",
              "      fill: #D2E3FC;\n",
              "    }\n",
              "\n",
              "    [theme=dark] .colab-df-convert:hover {\n",
              "      background-color: #434B5C;\n",
              "      box-shadow: 0px 1px 3px 1px rgba(0, 0, 0, 0.15);\n",
              "      filter: drop-shadow(0px 1px 2px rgba(0, 0, 0, 0.3));\n",
              "      fill: #FFFFFF;\n",
              "    }\n",
              "  </style>\n",
              "\n",
              "      <script>\n",
              "        const buttonEl =\n",
              "          document.querySelector('#df-ba91dc4e-ce03-4a31-8a9d-ec5abfc248e3 button.colab-df-convert');\n",
              "        buttonEl.style.display =\n",
              "          google.colab.kernel.accessAllowed ? 'block' : 'none';\n",
              "\n",
              "        async function convertToInteractive(key) {\n",
              "          const element = document.querySelector('#df-ba91dc4e-ce03-4a31-8a9d-ec5abfc248e3');\n",
              "          const dataTable =\n",
              "            await google.colab.kernel.invokeFunction('convertToInteractive',\n",
              "                                                     [key], {});\n",
              "          if (!dataTable) return;\n",
              "\n",
              "          const docLinkHtml = 'Like what you see? Visit the ' +\n",
              "            '<a target=\"_blank\" href=https://colab.research.google.com/notebooks/data_table.ipynb>data table notebook</a>'\n",
              "            + ' to learn more about interactive tables.';\n",
              "          element.innerHTML = '';\n",
              "          dataTable['output_type'] = 'display_data';\n",
              "          await google.colab.output.renderOutput(dataTable, element);\n",
              "          const docLink = document.createElement('div');\n",
              "          docLink.innerHTML = docLinkHtml;\n",
              "          element.appendChild(docLink);\n",
              "        }\n",
              "      </script>\n",
              "    </div>\n",
              "  </div>\n",
              "  "
            ]
          },
          "metadata": {},
          "execution_count": 15
        }
      ],
      "source": [
        "scaler = StandardScaler()\n",
        "one_hot_df.iloc[:,1:] = scaler.fit_transform(one_hot_df.iloc[:,1:])\n",
        "one_hot_df.head()"
      ]
    },
    {
      "cell_type": "markdown",
      "source": [
        "# Split train and test and labels"
      ],
      "metadata": {
        "id": "e9NBIHGa-aYf"
      }
    },
    {
      "cell_type": "markdown",
      "source": [
        "فیچرها و لیبل را جدا میکنیم و سپس داده های آموزش و تست را میسازیم"
      ],
      "metadata": {
        "id": "kRry-iRBejCe"
      }
    },
    {
      "cell_type": "code",
      "execution_count": 16,
      "metadata": {
        "id": "g2jUyTMP_gLD"
      },
      "outputs": [],
      "source": [
        "target = one_hot_df.loc[:,['Diabetes_binary']].values\n",
        "features = one_hot_df.iloc[:,1:].values"
      ]
    },
    {
      "cell_type": "code",
      "execution_count": 18,
      "metadata": {
        "colab": {
          "base_uri": "https://localhost:8080/"
        },
        "id": "e57wGa416EIZ",
        "outputId": "503c655f-c8c7-4fc9-f7af-a72d3f106f94"
      },
      "outputs": [
        {
          "output_type": "stream",
          "name": "stdout",
          "text": [
            "(56552, 38)\n",
            "(14139, 38)\n",
            "(14138, 38)\n"
          ]
        }
      ],
      "source": [
        "from sklearn.model_selection import train_test_split\n",
        "X_train, X_test, y_train, y_test = train_test_split( features, target, test_size=0.2, random_state=1)\n",
        "_, X_val,_, y_val = train_test_split(X_train, y_train, test_size=0.25, random_state=1) \n",
        "print(X_train.shape)\n",
        "print(X_test.shape)\n",
        "print(X_val.shape)"
      ]
    },
    {
      "cell_type": "markdown",
      "source": [
        "# Make classifier"
      ],
      "metadata": {
        "id": "XQaD9GH0-mtn"
      }
    },
    {
      "cell_type": "code",
      "execution_count": 19,
      "metadata": {
        "colab": {
          "base_uri": "https://localhost:8080/"
        },
        "id": "ITslgoo17gHN",
        "outputId": "d7554d79-cfb7-49d1-df4d-3875b2d659ba"
      },
      "outputs": [
        {
          "output_type": "stream",
          "name": "stdout",
          "text": [
            "Looking in indexes: https://pypi.org/simple, https://us-python.pkg.dev/colab-wheels/public/simple/\n",
            "Requirement already satisfied: xgboost in /usr/local/lib/python3.7/dist-packages (0.90)\n",
            "Requirement already satisfied: numpy in /usr/local/lib/python3.7/dist-packages (from xgboost) (1.21.6)\n",
            "Requirement already satisfied: scipy in /usr/local/lib/python3.7/dist-packages (from xgboost) (1.4.1)\n"
          ]
        }
      ],
      "source": [
        "!pip3 install xgboost"
      ]
    },
    {
      "cell_type": "code",
      "execution_count": 20,
      "metadata": {
        "id": "WDrGAVkj737z"
      },
      "outputs": [],
      "source": [
        "from sklearn.metrics import accuracy_score ,precision_score , recall_score , plot_confusion_matrix, ConfusionMatrixDisplay, confusion_matrix , classification_report \n",
        "from sklearn.model_selection import StratifiedKFold\n",
        "from xgboost import XGBClassifier"
      ]
    },
    {
      "cell_type": "markdown",
      "source": [
        "مدل را با پارامترهای داده شده میسازیم و روی داده های آموزش فیت میکنیم"
      ],
      "metadata": {
        "id": "IynioURteo71"
      }
    },
    {
      "cell_type": "code",
      "execution_count": 21,
      "metadata": {
        "id": "622SV8sq951Z"
      },
      "outputs": [],
      "source": [
        "model = XGBClassifier(learning_rate=0.1 , Max_depth=4 ,N_estimator=200 , Subsample=0.5 ,Colsample_bytree=1 , Random_seed=123 ,Eval_metric=\"auc\" , Verbosity=1)\n"
      ]
    },
    {
      "cell_type": "code",
      "execution_count": 22,
      "metadata": {
        "colab": {
          "base_uri": "https://localhost:8080/"
        },
        "id": "FrMzVpHf-xML",
        "outputId": "6bd35435-5dc7-4911-fa68-6f858d60dbc3"
      },
      "outputs": [
        {
          "output_type": "stream",
          "name": "stderr",
          "text": [
            "/usr/local/lib/python3.7/dist-packages/sklearn/preprocessing/_label.py:98: DataConversionWarning: A column-vector y was passed when a 1d array was expected. Please change the shape of y to (n_samples, ), for example using ravel().\n",
            "  y = column_or_1d(y, warn=True)\n",
            "/usr/local/lib/python3.7/dist-packages/sklearn/preprocessing/_label.py:133: DataConversionWarning: A column-vector y was passed when a 1d array was expected. Please change the shape of y to (n_samples, ), for example using ravel().\n",
            "  y = column_or_1d(y, warn=True)\n"
          ]
        },
        {
          "output_type": "stream",
          "name": "stdout",
          "text": [
            "[0]\tvalidation_0-error:0.299866\tvalidation_1-error:0.302589\n",
            "Multiple eval metrics have been passed: 'validation_1-error' will be used for early stopping.\n",
            "\n",
            "Will train until validation_1-error hasn't improved in 10 rounds.\n",
            "[1]\tvalidation_0-error:0.301457\tvalidation_1-error:0.30365\n",
            "[2]\tvalidation_0-error:0.280839\tvalidation_1-error:0.284128\n",
            "[3]\tvalidation_0-error:0.284039\tvalidation_1-error:0.287028\n",
            "[4]\tvalidation_0-error:0.283173\tvalidation_1-error:0.285967\n",
            "[5]\tvalidation_0-error:0.290228\tvalidation_1-error:0.293182\n",
            "[6]\tvalidation_0-error:0.282112\tvalidation_1-error:0.286108\n",
            "[7]\tvalidation_0-error:0.276666\tvalidation_1-error:0.280025\n",
            "[8]\tvalidation_0-error:0.275251\tvalidation_1-error:0.278964\n",
            "[9]\tvalidation_0-error:0.272652\tvalidation_1-error:0.276206\n",
            "[10]\tvalidation_0-error:0.268655\tvalidation_1-error:0.271891\n",
            "[11]\tvalidation_0-error:0.266374\tvalidation_1-error:0.268921\n",
            "[12]\tvalidation_0-error:0.261229\tvalidation_1-error:0.266091\n",
            "[13]\tvalidation_0-error:0.260468\tvalidation_1-error:0.26496\n",
            "[14]\tvalidation_0-error:0.259283\tvalidation_1-error:0.264111\n",
            "[15]\tvalidation_0-error:0.258718\tvalidation_1-error:0.26305\n",
            "[16]\tvalidation_0-error:0.258152\tvalidation_1-error:0.262272\n",
            "[17]\tvalidation_0-error:0.257533\tvalidation_1-error:0.261494\n",
            "[18]\tvalidation_0-error:0.256932\tvalidation_1-error:0.261352\n",
            "[19]\tvalidation_0-error:0.255959\tvalidation_1-error:0.261565\n",
            "[20]\tvalidation_0-error:0.255535\tvalidation_1-error:0.260716\n",
            "[21]\tvalidation_0-error:0.254403\tvalidation_1-error:0.259513\n",
            "[22]\tvalidation_0-error:0.253766\tvalidation_1-error:0.259938\n",
            "[23]\tvalidation_0-error:0.252369\tvalidation_1-error:0.258665\n",
            "[24]\tvalidation_0-error:0.252263\tvalidation_1-error:0.258028\n",
            "[25]\tvalidation_0-error:0.251751\tvalidation_1-error:0.257109\n",
            "[26]\tvalidation_0-error:0.25092\tvalidation_1-error:0.256543\n",
            "[27]\tvalidation_0-error:0.250849\tvalidation_1-error:0.25633\n",
            "[28]\tvalidation_0-error:0.250778\tvalidation_1-error:0.255977\n",
            "[29]\tvalidation_0-error:0.250407\tvalidation_1-error:0.256189\n",
            "[30]\tvalidation_0-error:0.250495\tvalidation_1-error:0.25633\n",
            "[31]\tvalidation_0-error:0.249929\tvalidation_1-error:0.255552\n",
            "[32]\tvalidation_0-error:0.24977\tvalidation_1-error:0.255057\n",
            "[33]\tvalidation_0-error:0.249487\tvalidation_1-error:0.255128\n",
            "[34]\tvalidation_0-error:0.249735\tvalidation_1-error:0.254562\n",
            "[35]\tvalidation_0-error:0.249416\tvalidation_1-error:0.254067\n",
            "[36]\tvalidation_0-error:0.249576\tvalidation_1-error:0.254704\n",
            "[37]\tvalidation_0-error:0.249416\tvalidation_1-error:0.254279\n",
            "[38]\tvalidation_0-error:0.249187\tvalidation_1-error:0.254704\n",
            "[39]\tvalidation_0-error:0.248868\tvalidation_1-error:0.253289\n",
            "[40]\tvalidation_0-error:0.248426\tvalidation_1-error:0.253643\n",
            "[41]\tvalidation_0-error:0.248214\tvalidation_1-error:0.253572\n",
            "[42]\tvalidation_0-error:0.248143\tvalidation_1-error:0.252865\n",
            "[43]\tvalidation_0-error:0.248232\tvalidation_1-error:0.252865\n",
            "[44]\tvalidation_0-error:0.248196\tvalidation_1-error:0.252865\n",
            "[45]\tvalidation_0-error:0.248055\tvalidation_1-error:0.252652\n",
            "[46]\tvalidation_0-error:0.248002\tvalidation_1-error:0.25244\n",
            "[47]\tvalidation_0-error:0.24779\tvalidation_1-error:0.252157\n",
            "[48]\tvalidation_0-error:0.247595\tvalidation_1-error:0.251238\n",
            "[49]\tvalidation_0-error:0.248073\tvalidation_1-error:0.251733\n",
            "[50]\tvalidation_0-error:0.24809\tvalidation_1-error:0.251662\n",
            "[51]\tvalidation_0-error:0.247825\tvalidation_1-error:0.251804\n",
            "[52]\tvalidation_0-error:0.247931\tvalidation_1-error:0.251874\n",
            "[53]\tvalidation_0-error:0.248179\tvalidation_1-error:0.252016\n",
            "[54]\tvalidation_0-error:0.24832\tvalidation_1-error:0.252157\n",
            "[55]\tvalidation_0-error:0.248161\tvalidation_1-error:0.251662\n",
            "[56]\tvalidation_0-error:0.248002\tvalidation_1-error:0.25145\n",
            "[57]\tvalidation_0-error:0.24809\tvalidation_1-error:0.251733\n",
            "[58]\tvalidation_0-error:0.247878\tvalidation_1-error:0.250248\n",
            "[59]\tvalidation_0-error:0.247843\tvalidation_1-error:0.250601\n",
            "[60]\tvalidation_0-error:0.247896\tvalidation_1-error:0.25053\n",
            "[61]\tvalidation_0-error:0.247737\tvalidation_1-error:0.250601\n",
            "[62]\tvalidation_0-error:0.248037\tvalidation_1-error:0.25046\n",
            "[63]\tvalidation_0-error:0.24832\tvalidation_1-error:0.250813\n",
            "[64]\tvalidation_0-error:0.247878\tvalidation_1-error:0.250177\n",
            "[65]\tvalidation_0-error:0.247737\tvalidation_1-error:0.249965\n",
            "[66]\tvalidation_0-error:0.247631\tvalidation_1-error:0.250743\n",
            "[67]\tvalidation_0-error:0.24756\tvalidation_1-error:0.250672\n",
            "[68]\tvalidation_0-error:0.247631\tvalidation_1-error:0.250601\n",
            "[69]\tvalidation_0-error:0.247241\tvalidation_1-error:0.250318\n",
            "[70]\tvalidation_0-error:0.247348\tvalidation_1-error:0.249752\n",
            "[71]\tvalidation_0-error:0.247206\tvalidation_1-error:0.249965\n",
            "[72]\tvalidation_0-error:0.247436\tvalidation_1-error:0.25046\n",
            "[73]\tvalidation_0-error:0.246976\tvalidation_1-error:0.249965\n",
            "[74]\tvalidation_0-error:0.246799\tvalidation_1-error:0.250177\n",
            "[75]\tvalidation_0-error:0.246711\tvalidation_1-error:0.250177\n",
            "[76]\tvalidation_0-error:0.246711\tvalidation_1-error:0.249752\n",
            "[77]\tvalidation_0-error:0.246693\tvalidation_1-error:0.249682\n",
            "[78]\tvalidation_0-error:0.246676\tvalidation_1-error:0.24954\n",
            "[79]\tvalidation_0-error:0.246676\tvalidation_1-error:0.249399\n",
            "[80]\tvalidation_0-error:0.246623\tvalidation_1-error:0.24954\n",
            "[81]\tvalidation_0-error:0.246888\tvalidation_1-error:0.249823\n",
            "[82]\tvalidation_0-error:0.24657\tvalidation_1-error:0.249611\n",
            "[83]\tvalidation_0-error:0.246764\tvalidation_1-error:0.250248\n",
            "[84]\tvalidation_0-error:0.246852\tvalidation_1-error:0.250177\n",
            "[85]\tvalidation_0-error:0.246729\tvalidation_1-error:0.250035\n",
            "[86]\tvalidation_0-error:0.246481\tvalidation_1-error:0.24954\n",
            "[87]\tvalidation_0-error:0.246428\tvalidation_1-error:0.248904\n",
            "[88]\tvalidation_0-error:0.246499\tvalidation_1-error:0.249116\n",
            "[89]\tvalidation_0-error:0.246446\tvalidation_1-error:0.249399\n",
            "[90]\tvalidation_0-error:0.246782\tvalidation_1-error:0.249682\n",
            "[91]\tvalidation_0-error:0.246693\tvalidation_1-error:0.249682\n",
            "[92]\tvalidation_0-error:0.246658\tvalidation_1-error:0.249328\n",
            "[93]\tvalidation_0-error:0.246481\tvalidation_1-error:0.24947\n",
            "[94]\tvalidation_0-error:0.246375\tvalidation_1-error:0.249682\n",
            "[95]\tvalidation_0-error:0.246269\tvalidation_1-error:0.249965\n",
            "[96]\tvalidation_0-error:0.246216\tvalidation_1-error:0.249965\n",
            "[97]\tvalidation_0-error:0.246304\tvalidation_1-error:0.249965\n",
            "Stopping. Best iteration:\n",
            "[87]\tvalidation_0-error:0.246428\tvalidation_1-error:0.248904\n",
            "\n"
          ]
        },
        {
          "output_type": "execute_result",
          "data": {
            "text/plain": [
              "XGBClassifier(Colsample_bytree=1, Eval_metric='auc', Max_depth=4,\n",
              "              N_estimator=200, Random_seed=123, Subsample=0.5, Verbosity=1)"
            ]
          },
          "metadata": {},
          "execution_count": 22
        }
      ],
      "source": [
        "import numpy as np\n",
        "model.fit(X_train, y_train ,eval_set=[(X_train , y_train),(X_val,y_val)],early_stopping_rounds=10)"
      ]
    },
    {
      "cell_type": "markdown",
      "source": [
        "همانطور که مشاهده میشود دقت روی داده های آموزش 75 درصد است"
      ],
      "metadata": {
        "id": "BgYMBAWie_2V"
      }
    },
    {
      "cell_type": "code",
      "execution_count": 23,
      "metadata": {
        "colab": {
          "base_uri": "https://localhost:8080/"
        },
        "id": "5AJ-WuEDBxUW",
        "outputId": "de560f68-508b-441f-e5f3-2f8e906e0313"
      },
      "outputs": [
        {
          "output_type": "stream",
          "name": "stdout",
          "text": [
            "accuracy_train :\n",
            "0.7535719337954448\n",
            "===========================================\n",
            "recall train :\n",
            "0.7965850560925704\n",
            "===========================================\n",
            "precision train :\n",
            "0.7343089430894308\n",
            "===========================================\n"
          ]
        }
      ],
      "source": [
        "y_pred_train = model.predict(X_train)\n",
        "accuracy_train = accuracy_score(y_train, y_pred_train)\n",
        "\n",
        "print(\"accuracy_train :\")\n",
        "print(accuracy_train)\n",
        "print(\"===========================================\")\n",
        "\n",
        "recall_train = recall_score(y_train, y_pred_train)\n",
        "print(\"recall train :\")\n",
        "print(recall_train)\n",
        "print(\"===========================================\")\n",
        "\n",
        "precision_train = precision_score(y_train, y_pred_train)\n",
        "print(\"precision train :\")\n",
        "print(precision_train)\n",
        "print(\"===========================================\")\n",
        "\n",
        "\n"
      ]
    },
    {
      "cell_type": "markdown",
      "source": [
        "تابع زیر برای رسم ماتریس در هم ریختگی نوشته شده است"
      ],
      "metadata": {
        "id": "ZvOVx9cPfMF5"
      }
    },
    {
      "cell_type": "code",
      "execution_count": 25,
      "metadata": {
        "id": "ADABV9JXEbHU"
      },
      "outputs": [],
      "source": [
        "import matplotlib.pyplot as plt\n",
        "from sklearn.metrics import confusion_matrix\n",
        "def conf_matrix(y_test, y_predicted):\n",
        "  cm = confusion_matrix(y_test, y_predicted)\n",
        "  plt.figure(figsize=(10,10))\n",
        "  plt.clf()\n",
        "  plt.imshow(cm, interpolation='nearest', cmap=plt.cm.Wistia)\n",
        "  classNames = ['Negative','Positive']\n",
        "  plt.title('confusion Matrice')\n",
        "  plt.ylabel('True label')\n",
        "  plt.xlabel('Predicted label')\n",
        "  tick_marks = np.arange(len(classNames))\n",
        "  plt.xticks(tick_marks, classNames, rotation=45)\n",
        "  plt.yticks(tick_marks, classNames)\n",
        "  s = [['TN','FP'], ['FN', 'TP']]\n",
        "  \n",
        "  for i in range(2):\n",
        "      for j in range(2):\n",
        "          plt.text(j,i, str(s[i][j])+\" = \"+str(cm[i][j]))\n",
        "  plt.show()"
      ]
    },
    {
      "cell_type": "markdown",
      "source": [
        "با توجه به مقادیر به دست آمده دقت روی داده های تست 75 درصد و ریکال 79 و پرسیژن 73 درصد است\n",
        "\n",
        "ماتریس درهم ریختگی نیز نشان میدهد که تا حد خوبی مقادیر مثبت و منفی درست تشخیص داده شده اند هر چند اشتباهات قابل توجهی نیز داشته ایم"
      ],
      "metadata": {
        "id": "KU77Z-LufV0Q"
      }
    },
    {
      "cell_type": "code",
      "source": [
        "conf_matrix(y_train,y_pred_train)"
      ],
      "metadata": {
        "colab": {
          "base_uri": "https://localhost:8080/",
          "height": 650
        },
        "id": "1zdtYSnhhc8x",
        "outputId": "e74b3f38-1f42-4ee7-a715-3a0e80c858eb"
      },
      "execution_count": 26,
      "outputs": [
        {
          "output_type": "display_data",
          "data": {
            "text/plain": [
              "<Figure size 720x720 with 1 Axes>"
            ],
            "image/png": "[encoded data removed]"
          },
          "metadata": {
            "needs_background": "light"
          }
        }
      ]
    },
    {
      "cell_type": "markdown",
      "source": [
        "برای داده های تست نیز مشاهده میشود که دقت 75 درصد و ریکال 79 و پرسیژن 73 درصد است\n",
        "ماتریس در هم ریختگی نیز تا حد زیادی شبیه داده های آموزش است"
      ],
      "metadata": {
        "id": "wOQCf8dyi7Nk"
      }
    },
    {
      "cell_type": "code",
      "execution_count": 27,
      "metadata": {
        "colab": {
          "base_uri": "https://localhost:8080/",
          "height": 806
        },
        "id": "1AfsN_CZCOiv",
        "outputId": "818be7b1-e383-4863-e5cf-ad240cb2a624"
      },
      "outputs": [
        {
          "output_type": "stream",
          "name": "stdout",
          "text": [
            "test accuracy :\n",
            "0.7552867953886413\n",
            "===========================================\n",
            "recall test :\n",
            "0.794399199885698\n",
            "===========================================\n",
            "precision test :\n",
            "0.7334124785648332\n",
            "===========================================\n"
          ]
        },
        {
          "output_type": "display_data",
          "data": {
            "text/plain": [
              "<Figure size 720x720 with 1 Axes>"
            ],
            "image/png": "[encoded data removed]"
          },
          "metadata": {
            "needs_background": "light"
          }
        }
      ],
      "source": [
        "y_pred_test = model.predict(X_test)\n",
        "accuracy_test = accuracy_score(y_test, y_pred_test)\n",
        "print(\"test accuracy :\")\n",
        "print(accuracy_test)\n",
        "print(\"===========================================\")\n",
        "\n",
        "recall_test = recall_score(y_test, y_pred_test)\n",
        "print(\"recall test :\")\n",
        "print(recall_test)\n",
        "print(\"===========================================\")\n",
        "\n",
        "precision_test = precision_score(y_test, y_pred_test)\n",
        "print(\"precision test :\")\n",
        "print(precision_test)\n",
        "print(\"===========================================\")\n",
        "\n",
        "conf_matrix(y_test,y_pred_test)\n",
        "\n"
      ]
    },
    {
      "cell_type": "markdown",
      "source": [
        "# Tune Hyperparameter"
      ],
      "metadata": {
        "id": "9jm88vaf-srv"
      }
    },
    {
      "cell_type": "code",
      "execution_count": 28,
      "metadata": {
        "id": "if_WD4BfEBol"
      },
      "outputs": [],
      "source": [
        "from sklearn.metrics import roc_auc_score\n",
        "def my_roc_auc_score(model, X, y): \n",
        "  return roc_auc_score(y, model.predict_proba(X)[:,1])\n"
      ]
    },
    {
      "cell_type": "markdown",
      "source": [
        "با استفاده از گریدسرچ و پارامترهای گفته شده بهترین پارامترها را به دست می آوریم"
      ],
      "metadata": {
        "id": "lZfGutuPf1MG"
      }
    },
    {
      "cell_type": "code",
      "execution_count": 29,
      "metadata": {
        "colab": {
          "base_uri": "https://localhost:8080/"
        },
        "id": "x_EcrGdmkKTH",
        "outputId": "b37bb000-17a9-41df-c1bd-aa5ee44b2c1a"
      },
      "outputs": [
        {
          "output_type": "execute_result",
          "data": {
            "text/plain": [
              "{'Colsample_bytree': 0.8,\n",
              " 'Max_depth': 2,\n",
              " 'N_estimator': 100,\n",
              " 'learning_rate': 0.1}"
            ]
          },
          "metadata": {},
          "execution_count": 29
        }
      ],
      "source": [
        "from sklearn.model_selection import GridSearchCV\n",
        "params = [{'learning_rate': [0.02, 0.05, 0.1, 0.3],\n",
        "         'Max_depth': [2, 3, 4],\n",
        "         'N_estimator': [100, 200, 300],\n",
        "         'Colsample_bytree' : [0.8, 1]\n",
        "         \n",
        "         }]\n",
        "kfold = StratifiedKFold(n_splits=3,shuffle=True, random_state=42)\n",
        "model2 = XGBClassifier(Eval_metric=\"auc\" ,Subsample=0.5)\n",
        "clf = GridSearchCV(estimator = model2, param_grid = params , scoring= my_roc_auc_score , cv=kfold)\n",
        "clf.fit(X_train , np.ravel(y_train))\n",
        "cv_results = pd.DataFrame(clf.cv_results_)\n",
        "clf.best_params_"
      ]
    },
    {
      "cell_type": "markdown",
      "source": [
        "مدل را به علت تایم زیاد برای آموزش برای آینده ذخیره میکنیم :)"
      ],
      "metadata": {
        "id": "OMpsU5w1gCmm"
      }
    },
    {
      "cell_type": "code",
      "source": [
        "# save model for later\n",
        "import pickle\n",
        "filename = 'tune_model.sav'\n",
        "# pickle.dump(model, open(filename, 'wb'))\n",
        "\n",
        "# clf = pickle.load(open(filename, 'rb'))"
      ],
      "metadata": {
        "id": "90sDzbzEQBWK"
      },
      "execution_count": 30,
      "outputs": []
    },
    {
      "cell_type": "code",
      "source": [
        "clf.score(X_train , y_train)"
      ],
      "metadata": {
        "colab": {
          "base_uri": "https://localhost:8080/"
        },
        "id": "13T8UjsQcwbV",
        "outputId": "1781830a-6e87-4f21-e7af-8a064d86e311"
      },
      "execution_count": 31,
      "outputs": [
        {
          "output_type": "execute_result",
          "data": {
            "text/plain": [
              "0.8320732424893531"
            ]
          },
          "metadata": {},
          "execution_count": 31
        }
      ]
    },
    {
      "cell_type": "markdown",
      "source": [
        "حال مدل دسته بندی خود را با بهترین پارامترها را میسازیم و دوباره روی داده های آموزش فیت میکنیم"
      ],
      "metadata": {
        "id": "2aReGk0bgJvu"
      }
    },
    {
      "cell_type": "code",
      "execution_count": 32,
      "metadata": {
        "id": "9zfMiGHwidwp"
      },
      "outputs": [],
      "source": [
        "model2 = XGBClassifier(learning_rate=0.1 , Max_depth=2 ,N_estimator=100 ,Colsample_bytree=0.8)"
      ]
    },
    {
      "cell_type": "code",
      "source": [
        "model2.fit(X_train, y_train)"
      ],
      "metadata": {
        "colab": {
          "base_uri": "https://localhost:8080/"
        },
        "id": "TSg9Lt_LQHDG",
        "outputId": "bdf99245-8e0e-4d32-9518-8c81ae448b8a"
      },
      "execution_count": 33,
      "outputs": [
        {
          "output_type": "stream",
          "name": "stderr",
          "text": [
            "/usr/local/lib/python3.7/dist-packages/sklearn/preprocessing/_label.py:98: DataConversionWarning: A column-vector y was passed when a 1d array was expected. Please change the shape of y to (n_samples, ), for example using ravel().\n",
            "  y = column_or_1d(y, warn=True)\n",
            "/usr/local/lib/python3.7/dist-packages/sklearn/preprocessing/_label.py:133: DataConversionWarning: A column-vector y was passed when a 1d array was expected. Please change the shape of y to (n_samples, ), for example using ravel().\n",
            "  y = column_or_1d(y, warn=True)\n"
          ]
        },
        {
          "output_type": "execute_result",
          "data": {
            "text/plain": [
              "XGBClassifier(Colsample_bytree=0.8, Max_depth=2, N_estimator=100)"
            ]
          },
          "metadata": {},
          "execution_count": 33
        }
      ]
    },
    {
      "cell_type": "markdown",
      "source": [
        "با استفاده از پارامترهای تنظیم شده کمی دقت افزایش میابد ولی در کل تغییر خیلی محسوسی ایجاد نشده است"
      ],
      "metadata": {
        "id": "_-XDSm6-jTOH"
      }
    },
    {
      "cell_type": "code",
      "source": [
        "y_pred_train2 = model2.predict(X_train)\n",
        "accuracy_train2 = accuracy_score(y_train, y_pred_train2)\n",
        "print(accuracy_train2)\n",
        "print(classification_report(y_train, y_pred_train2)) \n",
        "\n",
        "conf_matrix(y_train, y_pred_train2)"
      ],
      "metadata": {
        "colab": {
          "base_uri": "https://localhost:8080/",
          "height": 824
        },
        "id": "o2AOA3MGQViI",
        "outputId": "ae70845a-45eb-4e61-bc58-8deb94e3a273"
      },
      "execution_count": 34,
      "outputs": [
        {
          "output_type": "stream",
          "name": "stdout",
          "text": [
            "0.7541201018531617\n",
            "              precision    recall  f1-score   support\n",
            "\n",
            "         0.0       0.78      0.71      0.74     28206\n",
            "         1.0       0.73      0.80      0.76     28346\n",
            "\n",
            "    accuracy                           0.75     56552\n",
            "   macro avg       0.76      0.75      0.75     56552\n",
            "weighted avg       0.76      0.75      0.75     56552\n",
            "\n"
          ]
        },
        {
          "output_type": "display_data",
          "data": {
            "text/plain": [
              "<Figure size 720x720 with 1 Axes>"
            ],
            "image/png": "[encoded data removed]"
          },
          "metadata": {
            "needs_background": "light"
          }
        }
      ]
    },
    {
      "cell_type": "code",
      "source": [
        "y_pred_test2 = model2.predict(X_test)\n",
        "accuracy_test2 = accuracy_score(y_test, y_pred_test2)\n",
        "print(accuracy_test2)\n",
        "print(classification_report(y_test, y_pred_test2)) \n",
        "conf_matrix(y_test, y_pred_test2)"
      ],
      "metadata": {
        "colab": {
          "base_uri": "https://localhost:8080/",
          "height": 824
        },
        "id": "SNQsw_CeQmvY",
        "outputId": "01f1adbf-a7be-43ba-8ec8-703507c72045"
      },
      "execution_count": 35,
      "outputs": [
        {
          "output_type": "stream",
          "name": "stdout",
          "text": [
            "0.7545795317914987\n",
            "              precision    recall  f1-score   support\n",
            "\n",
            "         0.0       0.78      0.72      0.75      7140\n",
            "         1.0       0.73      0.79      0.76      6999\n",
            "\n",
            "    accuracy                           0.75     14139\n",
            "   macro avg       0.76      0.75      0.75     14139\n",
            "weighted avg       0.76      0.75      0.75     14139\n",
            "\n"
          ]
        },
        {
          "output_type": "display_data",
          "data": {
            "text/plain": [
              "<Figure size 720x720 with 1 Axes>"
            ],
            "image/png": "[encoded data removed]"
          },
          "metadata": {
            "needs_background": "light"
          }
        }
      ]
    },
    {
      "cell_type": "code",
      "source": [
        "y_pred_test2 = model2.predict(X_test)\n",
        "accuracy_test2 = accuracy_score(y_test, y_pred_test2)\n",
        "print(\"test accuracy :\")\n",
        "print(accuracy_test2)\n",
        "print(\"===========================================\")\n",
        "\n",
        "recall_test2 = recall_score(y_test, y_pred_test2)\n",
        "print(\"recall accuracy :\")\n",
        "print(recall_test2)\n",
        "print(\"===========================================\")\n",
        "\n",
        "precision_test2 = precision_score(y_test, y_pred_test2)\n",
        "print(\"precision accuracy :\")\n",
        "print(precision_test2)\n",
        "print(\"===========================================\")\n",
        "\n",
        "conf_matrix(y_test,y_pred_test2)"
      ],
      "metadata": {
        "colab": {
          "base_uri": "https://localhost:8080/",
          "height": 806
        },
        "id": "mjOtcAnUS1Tf",
        "outputId": "ff26bae7-a797-4a46-e070-3c232ab02a85"
      },
      "execution_count": 36,
      "outputs": [
        {
          "output_type": "stream",
          "name": "stdout",
          "text": [
            "test accuracy :\n",
            "0.7545795317914987\n",
            "===========================================\n",
            "recall accuracy :\n",
            "0.7939705672238891\n",
            "===========================================\n",
            "precision accuracy :\n",
            "0.7326301911667765\n",
            "===========================================\n"
          ]
        },
        {
          "output_type": "display_data",
          "data": {
            "text/plain": [
              "<Figure size 720x720 with 1 Axes>"
            ],
            "image/png": "[encoded data removed]"
          },
          "metadata": {
            "needs_background": "light"
          }
        }
      ]
    },
    {
      "cell_type": "code",
      "source": [
        "cv_results.head()"
      ],
      "metadata": {
        "colab": {
          "base_uri": "https://localhost:8080/",
          "height": 444
        },
        "id": "OVM16ejjTLS8",
        "outputId": "82830d02-a8bd-4bc3-b603-863452b07cb4"
      },
      "execution_count": 37,
      "outputs": [
        {
          "output_type": "execute_result",
          "data": {
            "text/plain": [
              "   mean_fit_time  std_fit_time  mean_score_time  std_score_time  \\\n",
              "0       3.139454      0.036950         0.058873        0.000105   \n",
              "1       3.151464      0.040019         0.071445        0.005216   \n",
              "2       3.127419      0.034077         0.065845        0.000892   \n",
              "3       3.065390      0.017149         0.059925        0.001066   \n",
              "4       3.109126      0.011939         0.058662        0.000949   \n",
              "\n",
              "  param_Colsample_bytree param_Max_depth param_N_estimator  \\\n",
              "0                    0.8               2               100   \n",
              "1                    0.8               2               100   \n",
              "2                    0.8               2               100   \n",
              "3                    0.8               2               100   \n",
              "4                    0.8               2               200   \n",
              "\n",
              "  param_learning_rate                                             params  \\\n",
              "0                0.02  {'Colsample_bytree': 0.8, 'Max_depth': 2, 'N_e...   \n",
              "1                0.05  {'Colsample_bytree': 0.8, 'Max_depth': 2, 'N_e...   \n",
              "2                 0.1  {'Colsample_bytree': 0.8, 'Max_depth': 2, 'N_e...   \n",
              "3                 0.3  {'Colsample_bytree': 0.8, 'Max_depth': 2, 'N_e...   \n",
              "4                0.02  {'Colsample_bytree': 0.8, 'Max_depth': 2, 'N_e...   \n",
              "\n",
              "   split0_test_score  split1_test_score  split2_test_score  mean_test_score  \\\n",
              "0           0.819266           0.818662           0.814271         0.817400   \n",
              "1           0.827005           0.827548           0.823534         0.826029   \n",
              "2           0.828880           0.829651           0.825875         0.828135   \n",
              "3           0.828149           0.828905           0.825614         0.827556   \n",
              "4           0.819266           0.818662           0.814271         0.817400   \n",
              "\n",
              "   std_test_score  rank_test_score  \n",
              "0        0.002226               55  \n",
              "1        0.001778               37  \n",
              "2        0.001629                1  \n",
              "3        0.001408               19  \n",
              "4        0.002226               55  "
            ],
            "text/html": [
              "\n",
              "  <div id=\"df-760470c7-b553-4241-8e01-b03d1f8a24fc\">\n",
              "    <div class=\"colab-df-container\">\n",
              "      <div>\n",
              "<style scoped>\n",
              "    .dataframe tbody tr th:only-of-type {\n",
              "        vertical-align: middle;\n",
              "    }\n",
              "\n",
              "    .dataframe tbody tr th {\n",
              "        vertical-align: top;\n",
              "    }\n",
              "\n",
              "    .dataframe thead th {\n",
              "        text-align: right;\n",
              "    }\n",
              "</style>\n",
              "<table border=\"1\" class=\"dataframe\">\n",
              "  <thead>\n",
              "    <tr style=\"text-align: right;\">\n",
              "      <th></th>\n",
              "      <th>mean_fit_time</th>\n",
              "      <th>std_fit_time</th>\n",
              "      <th>mean_score_time</th>\n",
              "      <th>std_score_time</th>\n",
              "      <th>param_Colsample_bytree</th>\n",
              "      <th>param_Max_depth</th>\n",
              "      <th>param_N_estimator</th>\n",
              "      <th>param_learning_rate</th>\n",
              "      <th>params</th>\n",
              "      <th>split0_test_score</th>\n",
              "      <th>split1_test_score</th>\n",
              "      <th>split2_test_score</th>\n",
              "      <th>mean_test_score</th>\n",
              "      <th>std_test_score</th>\n",
              "      <th>rank_test_score</th>\n",
              "    </tr>\n",
              "  </thead>\n",
              "  <tbody>\n",
              "    <tr>\n",
              "      <th>0</th>\n",
              "      <td>3.139454</td>\n",
              "      <td>0.036950</td>\n",
              "      <td>0.058873</td>\n",
              "      <td>0.000105</td>\n",
              "      <td>0.8</td>\n",
              "      <td>2</td>\n",
              "      <td>100</td>\n",
              "      <td>0.02</td>\n",
              "      <td>{'Colsample_bytree': 0.8, 'Max_depth': 2, 'N_e...</td>\n",
              "      <td>0.819266</td>\n",
              "      <td>0.818662</td>\n",
              "      <td>0.814271</td>\n",
              "      <td>0.817400</td>\n",
              "      <td>0.002226</td>\n",
              "      <td>55</td>\n",
              "    </tr>\n",
              "    <tr>\n",
              "      <th>1</th>\n",
              "      <td>3.151464</td>\n",
              "      <td>0.040019</td>\n",
              "      <td>0.071445</td>\n",
              "      <td>0.005216</td>\n",
              "      <td>0.8</td>\n",
              "      <td>2</td>\n",
              "      <td>100</td>\n",
              "      <td>0.05</td>\n",
              "      <td>{'Colsample_bytree': 0.8, 'Max_depth': 2, 'N_e...</td>\n",
              "      <td>0.827005</td>\n",
              "      <td>0.827548</td>\n",
              "      <td>0.823534</td>\n",
              "      <td>0.826029</td>\n",
              "      <td>0.001778</td>\n",
              "      <td>37</td>\n",
              "    </tr>\n",
              "    <tr>\n",
              "      <th>2</th>\n",
              "      <td>3.127419</td>\n",
              "      <td>0.034077</td>\n",
              "      <td>0.065845</td>\n",
              "      <td>0.000892</td>\n",
              "      <td>0.8</td>\n",
              "      <td>2</td>\n",
              "      <td>100</td>\n",
              "      <td>0.1</td>\n",
              "      <td>{'Colsample_bytree': 0.8, 'Max_depth': 2, 'N_e...</td>\n",
              "      <td>0.828880</td>\n",
              "      <td>0.829651</td>\n",
              "      <td>0.825875</td>\n",
              "      <td>0.828135</td>\n",
              "      <td>0.001629</td>\n",
              "      <td>1</td>\n",
              "    </tr>\n",
              "    <tr>\n",
              "      <th>3</th>\n",
              "      <td>3.065390</td>\n",
              "      <td>0.017149</td>\n",
              "      <td>0.059925</td>\n",
              "      <td>0.001066</td>\n",
              "      <td>0.8</td>\n",
              "      <td>2</td>\n",
              "      <td>100</td>\n",
              "      <td>0.3</td>\n",
              "      <td>{'Colsample_bytree': 0.8, 'Max_depth': 2, 'N_e...</td>\n",
              "      <td>0.828149</td>\n",
              "      <td>0.828905</td>\n",
              "      <td>0.825614</td>\n",
              "      <td>0.827556</td>\n",
              "      <td>0.001408</td>\n",
              "      <td>19</td>\n",
              "    </tr>\n",
              "    <tr>\n",
              "      <th>4</th>\n",
              "      <td>3.109126</td>\n",
              "      <td>0.011939</td>\n",
              "      <td>0.058662</td>\n",
              "      <td>0.000949</td>\n",
              "      <td>0.8</td>\n",
              "      <td>2</td>\n",
              "      <td>200</td>\n",
              "      <td>0.02</td>\n",
              "      <td>{'Colsample_bytree': 0.8, 'Max_depth': 2, 'N_e...</td>\n",
              "      <td>0.819266</td>\n",
              "      <td>0.818662</td>\n",
              "      <td>0.814271</td>\n",
              "      <td>0.817400</td>\n",
              "      <td>0.002226</td>\n",
              "      <td>55</td>\n",
              "    </tr>\n",
              "  </tbody>\n",
              "</table>\n",
              "</div>\n",
              "      <button class=\"colab-df-convert\" onclick=\"convertToInteractive('df-760470c7-b553-4241-8e01-b03d1f8a24fc')\"\n",
              "              title=\"Convert this dataframe to an interactive table.\"\n",
              "              style=\"display:none;\">\n",
              "        \n",
              "  <svg xmlns=\"http://www.w3.org/2000/svg\" height=\"24px\"viewBox=\"0 0 24 24\"\n",
              "       width=\"24px\">\n",
              "    <path d=\"M0 0h24v24H0V0z\" fill=\"none\"/>\n",
              "    <path d=\"M18.56 5.44l.94 2.06.94-2.06 2.06-.94-2.06-.94-.94-2.06-.94 2.06-2.06.94zm-11 1L8.5 8.5l.94-2.06 2.06-.94-2.06-.94L8.5 2.5l-.94 2.06-2.06.94zm10 10l.94 2.06.94-2.06 2.06-.94-2.06-.94-.94-2.06-.94 2.06-2.06.94z\"/><path d=\"M17.41 7.96l-1.37-1.37c-.4-.4-.92-.59-1.43-.59-.52 0-1.04.2-1.43.59L10.3 9.45l-7.72 7.72c-.78.78-.78 2.05 0 2.83L4 21.41c.39.39.9.59 1.41.59.51 0 1.02-.2 1.41-.59l7.78-7.78 2.81-2.81c.8-.78.8-2.07 0-2.86zM5.41 20L4 18.59l7.72-7.72 1.47 1.35L5.41 20z\"/>\n",
              "  </svg>\n",
              "      </button>\n",
              "      \n",
              "  <style>\n",
              "    .colab-df-container {\n",
              "      display:flex;\n",
              "      flex-wrap:wrap;\n",
              "      gap: 12px;\n",
              "    }\n",
              "\n",
              "    .colab-df-convert {\n",
              "      background-color: #E8F0FE;\n",
              "      border: none;\n",
              "      border-radius: 50%;\n",
              "      cursor: pointer;\n",
              "      display: none;\n",
              "      fill: #1967D2;\n",
              "      height: 32px;\n",
              "      padding: 0 0 0 0;\n",
              "      width: 32px;\n",
              "    }\n",
              "\n",
              "    .colab-df-convert:hover {\n",
              "      background-color: #E2EBFA;\n",
              "      box-shadow: 0px 1px 2px rgba(60, 64, 67, 0.3), 0px 1px 3px 1px rgba(60, 64, 67, 0.15);\n",
              "      fill: #174EA6;\n",
              "    }\n",
              "\n",
              "    [theme=dark] .colab-df-convert {\n",
              "      background-color: #3B4455;\n",
              "      fill: #D2E3FC;\n",
              "    }\n",
              "\n",
              "    [theme=dark] .colab-df-convert:hover {\n",
              "      background-color: #434B5C;\n",
              "      box-shadow: 0px 1px 3px 1px rgba(0, 0, 0, 0.15);\n",
              "      filter: drop-shadow(0px 1px 2px rgba(0, 0, 0, 0.3));\n",
              "      fill: #FFFFFF;\n",
              "    }\n",
              "  </style>\n",
              "\n",
              "      <script>\n",
              "        const buttonEl =\n",
              "          document.querySelector('#df-760470c7-b553-4241-8e01-b03d1f8a24fc button.colab-df-convert');\n",
              "        buttonEl.style.display =\n",
              "          google.colab.kernel.accessAllowed ? 'block' : 'none';\n",
              "\n",
              "        async function convertToInteractive(key) {\n",
              "          const element = document.querySelector('#df-760470c7-b553-4241-8e01-b03d1f8a24fc');\n",
              "          const dataTable =\n",
              "            await google.colab.kernel.invokeFunction('convertToInteractive',\n",
              "                                                     [key], {});\n",
              "          if (!dataTable) return;\n",
              "\n",
              "          const docLinkHtml = 'Like what you see? Visit the ' +\n",
              "            '<a target=\"_blank\" href=https://colab.research.google.com/notebooks/data_table.ipynb>data table notebook</a>'\n",
              "            + ' to learn more about interactive tables.';\n",
              "          element.innerHTML = '';\n",
              "          dataTable['output_type'] = 'display_data';\n",
              "          await google.colab.output.renderOutput(dataTable, element);\n",
              "          const docLink = document.createElement('div');\n",
              "          docLink.innerHTML = docLinkHtml;\n",
              "          element.appendChild(docLink);\n",
              "        }\n",
              "      </script>\n",
              "    </div>\n",
              "  </div>\n",
              "  "
            ]
          },
          "metadata": {},
          "execution_count": 37
        }
      ]
    },
    {
      "cell_type": "code",
      "source": [
        "clf.param_grid"
      ],
      "metadata": {
        "colab": {
          "base_uri": "https://localhost:8080/"
        },
        "id": "V8kaozY2oolT",
        "outputId": "ef4a7fcb-9233-4919-e07a-0a7011768a34"
      },
      "execution_count": null,
      "outputs": [
        {
          "output_type": "execute_result",
          "data": {
            "text/plain": [
              "[{'Colsample_bytree': [0.8, 1],\n",
              "  'Max_depth': [2, 3, 4],\n",
              "  'N_estimator': [100, 200, 300],\n",
              "  'learning_rate': [0.02, 0.05, 0.1, 0.3]}]"
            ]
          },
          "metadata": {},
          "execution_count": 38
        }
      ]
    },
    {
      "cell_type": "markdown",
      "source": [
        "# Visualize Results"
      ],
      "metadata": {
        "id": "xa7f90GxAgxx"
      }
    },
    {
      "cell_type": "markdown",
      "source": [
        "پس از رسم تاثیر تغییر هر کدام از پارامترها روی عملکرد مدلها مشاهده میشود که بیشترین تاثیر مربوط به لرنینگ ریت بوده است و بقیه تاثیر چندانی نداشته اند"
      ],
      "metadata": {
        "id": "vHZLO1tMkAl4"
      }
    },
    {
      "cell_type": "code",
      "source": [
        "learning_rate = [0.02, 0.05, 0.1, 0.3]\n",
        "Max_depth = [2, 3, 4]\n",
        "N_estimator = [100, 200, 300]\n",
        "Colsample_bytree  = [0.8, 1]\n",
        "\n",
        "# plot results of learning rate \n",
        "\n",
        "best_md=clf.best_params_['Max_depth']\n",
        "best_cb = clf.best_params_['Colsample_bytree']\n",
        "best_ns = clf.best_params_['N_estimator']\n",
        "y = []\n",
        "for mean_score, params in zip(clf.cv_results_[\"mean_test_score\"], clf.cv_results_[\"params\"]):\n",
        "    if params[\"Max_depth\"]==best_md and params[\"Colsample_bytree\"]==best_cb and params[\"N_estimator\"]==best_ns :\n",
        "        \n",
        "        y.append(mean_score)\n",
        "\n",
        "plt.plot(learning_rate, y)\n",
        "\n",
        "plt.title('mean score for different learning rates')\n",
        "plt.xlabel('learning rate')\n",
        "plt.ylabel('mean score')\n",
        "plt.show()\n"
      ],
      "metadata": {
        "colab": {
          "base_uri": "https://localhost:8080/",
          "height": 295
        },
        "id": "Q-Km71iXUl7H",
        "outputId": "dca4a845-e2a4-4be9-b3ba-ada2efad94b5"
      },
      "execution_count": 38,
      "outputs": [
        {
          "output_type": "display_data",
          "data": {
            "text/plain": [
              "<Figure size 432x288 with 1 Axes>"
            ],
            "image/png": "[encoded data removed]"
          },
          "metadata": {
            "needs_background": "light"
          }
        }
      ]
    },
    {
      "cell_type": "code",
      "source": [
        "learning_rate = [0.02, 0.05, 0.1, 0.3]\n",
        "Max_depth = [2, 3, 4]\n",
        "N_estimator = [100, 200, 300]\n",
        "Colsample_bytree  = [0.8, 1]\n",
        "\n",
        "# plot results of max_depth\n",
        "\n",
        "best_lr=clf.best_params_['learning_rate']\n",
        "best_cb = clf.best_params_['Colsample_bytree']\n",
        "best_ns = clf.best_params_['N_estimator']\n",
        "y = []\n",
        "for mean_score, params in zip(clf.cv_results_[\"mean_test_score\"], clf.cv_results_[\"params\"]):\n",
        "    if params[\"learning_rate\"]==best_lr and params[\"Colsample_bytree\"]==best_cb and params[\"N_estimator\"]==best_ns :\n",
        "        \n",
        "        y.append(mean_score)\n",
        "\n",
        "plt.plot(Max_depth, y)\n",
        "\n",
        "plt.title('mean score for different max depth')\n",
        "plt.xlabel('max depth')\n",
        "plt.ylabel('mean score')\n",
        "plt.show()"
      ],
      "metadata": {
        "colab": {
          "base_uri": "https://localhost:8080/",
          "height": 295
        },
        "id": "F7Mjq0p8ehoB",
        "outputId": "cd8ecb6d-de70-454c-cd05-9dee94969265"
      },
      "execution_count": 39,
      "outputs": [
        {
          "output_type": "display_data",
          "data": {
            "text/plain": [
              "<Figure size 432x288 with 1 Axes>"
            ],
            "image/png": "[encoded data removed]"
          },
          "metadata": {
            "needs_background": "light"
          }
        }
      ]
    },
    {
      "cell_type": "code",
      "source": [
        "learning_rate = [0.02, 0.05, 0.1, 0.3]\n",
        "Max_depth = [2, 3, 4]\n",
        "N_estimator = [100, 200, 300]\n",
        "Colsample_bytree  = [0.8, 1]\n",
        "\n",
        "# plot results of max_depth\n",
        "\n",
        "best_lr=clf.best_params_['learning_rate']\n",
        "best_cb = clf.best_params_['Colsample_bytree']\n",
        "best_md = clf.best_params_['Max_depth']\n",
        "y = []\n",
        "for mean_score, params in zip(clf.cv_results_[\"mean_test_score\"], clf.cv_results_[\"params\"]):\n",
        "    if params[\"learning_rate\"]==best_lr and params[\"Colsample_bytree\"]==best_cb and params[\"Max_depth\"]==best_md :\n",
        "        \n",
        "        y.append(mean_score)\n",
        "\n",
        "plt.plot(N_estimator, y)\n",
        "\n",
        "plt.title('mean score for different N_estimator')\n",
        "plt.xlabel('N_estimator')\n",
        "plt.ylabel('mean score')\n",
        "plt.show()"
      ],
      "metadata": {
        "colab": {
          "base_uri": "https://localhost:8080/",
          "height": 296
        },
        "id": "OVMQOXFhf7Il",
        "outputId": "36b72ac7-1548-4caf-d12b-ae7e0911c5b9"
      },
      "execution_count": 40,
      "outputs": [
        {
          "output_type": "display_data",
          "data": {
            "text/plain": [
              "<Figure size 432x288 with 1 Axes>"
            ],
            "image/png": "[encoded data removed]"
          },
          "metadata": {
            "needs_background": "light"
          }
        }
      ]
    },
    {
      "cell_type": "code",
      "source": [
        "learning_rate = [0.02, 0.05, 0.1, 0.3]\n",
        "Max_depth = [2, 3, 4]\n",
        "N_estimator = [100, 200, 300]\n",
        "Colsample_bytree  = [0.8, 1]\n",
        "\n",
        "# plot results of max_depth\n",
        "\n",
        "best_lr=clf.best_params_['learning_rate']\n",
        "best_ns = clf.best_params_['N_estimator']\n",
        "best_md = clf.best_params_['Max_depth']\n",
        "y = []\n",
        "for mean_score, params in zip(clf.cv_results_[\"mean_test_score\"], clf.cv_results_[\"params\"]):\n",
        "    if params[\"learning_rate\"]==best_lr and params[\"N_estimator\"]==best_ns and params[\"Max_depth\"]==best_md :\n",
        "        \n",
        "        y.append(mean_score)\n",
        "\n",
        "plt.plot(Colsample_bytree, y)\n",
        "\n",
        "plt.title('mean score for different Colsample_bytree')\n",
        "plt.xlabel('Colsample_bytree')\n",
        "plt.ylabel('mean score')\n",
        "plt.show()"
      ],
      "metadata": {
        "colab": {
          "base_uri": "https://localhost:8080/",
          "height": 296
        },
        "id": "7X3psoZBg33L",
        "outputId": "ddd8ebf2-d83f-4e93-ac3b-001754986352"
      },
      "execution_count": 41,
      "outputs": [
        {
          "output_type": "display_data",
          "data": {
            "text/plain": [
              "<Figure size 432x288 with 1 Axes>"
            ],
            "image/png": "[encoded data removed]"
          },
          "metadata": {
            "needs_background": "light"
          }
        }
      ]
    }
  ],
  "metadata": {
    "accelerator": "GPU",
    "colab": {
      "collapsed_sections": [],
      "name": "DM Project.ipynb",
      "provenance": []
    },
    "gpuClass": "standard",
    "kernelspec": {
      "display_name": "Python 3",
      "name": "python3"
    },
    "language_info": {
      "name": "python"
    }
  },
  "nbformat": 4,
  "nbformat_minor": 0
}